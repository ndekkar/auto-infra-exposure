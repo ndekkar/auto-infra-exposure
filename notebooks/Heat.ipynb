{
 "cells": [
  {
   "cell_type": "markdown",
   "id": "7de82548",
   "metadata": {},
   "source": [
    "# Heat — single-hazard runner\n",
    "_Generated on 2025-09-14 15:44 UTC_"
   ]
  },
  {
   "cell_type": "markdown",
   "id": "af7ff863",
   "metadata": {},
   "source": [
    "## Setup & Config"
   ]
  },
  {
   "cell_type": "code",
   "execution_count": null,
   "id": "2cc7146c",
   "metadata": {},
   "outputs": [],
   "source": [
    "# --- Environment & Imports ---\n",
    "import os, sys, glob, json\n",
    "from pathlib import Path\n",
    "\n",
    "# Make sure both the repo root and a potential 'modules/' folder are importable\n",
    "ROOT = Path.cwd()\n",
    "if (ROOT / \"modules\").exists():\n",
    "    sys.path.insert(0, str(ROOT / \"modules\"))\n",
    "sys.path.insert(0, str(ROOT))\n",
    "\n",
    "# Basic utilities\n",
    "import matplotlib.pyplot as plt\n",
    "\n",
    "# YAML config loader (fallback if modules.config_utils not found)\n",
    "try:\n",
    "    from modules.config_utils import load_config  # project helper if available\n",
    "except Exception:\n",
    "    import yaml\n",
    "    def load_config(path):\n",
    "        with open(path, \"r\", encoding=\"utf-8\") as f:\n",
    "            return yaml.safe_load(f)\n",
    "\n",
    "# Helper to auto-detect a config file if not set\n",
    "DEFAULT_CONFIG_CANDIDATES = [\"config.yaml\", \"config.yml\", \"configs/config.yaml\"]\n",
    "for _cand in DEFAULT_CONFIG_CANDIDATES:\n",
    "    if Path(_cand).exists():\n",
    "        CONFIG_PATH = _cand\n",
    "        break\n",
    "else:\n",
    "    # Put a placeholder if nothing found\n",
    "    CONFIG_PATH = \"config.yaml\"  # adjust if needed\n",
    "print(f\"Using CONFIG_PATH = {CONFIG_PATH!r}\")\n",
    "CONFIG = load_config(CONFIG_PATH)\n",
    "CONFIG"
   ]
  },
  {
   "cell_type": "markdown",
   "id": "76777479",
   "metadata": {},
   "source": [
    "## Run heat processing"
   ]
  },
  {
   "cell_type": "code",
   "execution_count": null,
   "id": "7a4202f5",
   "metadata": {},
   "outputs": [],
   "source": [
    "try:\n",
    "    from modules.heat_module import process_heat, plot_heat_statistics\n",
    "except Exception:\n",
    "    from heat_module import process_heat, plot_heat_statistics\n",
    "\n",
    "heat_raster_path = process_heat(CONFIG)\n",
    "print(\"Heat raster (if produced):\", heat_raster_path)\n",
    "\n",
    "# If stats plotting is available (depends on your module implementation), attempt to show\n",
    "try:\n",
    "    # Some implementations return stats separately; here we just try to call plot function if present\n",
    "    # You can adapt this cell to your module's exact API.\n",
    "    # plot_heat_statistics(annual_stats, CONFIG.get(\"output_dir\", \"output\"))\n",
    "    pass\n",
    "except Exception as e:\n",
    "    print(\"[WARN] Heat stats plotting skipped:\", e)"
   ]
  },
  {
   "cell_type": "code",
   "execution_count": null,
   "id": "5fa6c0f9",
   "metadata": {},
   "outputs": [],
   "source": [
    "# --- Browse outputs ---\n",
    "out_dir = Path(CONFIG.get(\"output_dir\", \"output\"))\n",
    "out_dir.mkdir(parents=True, exist_ok=True)\n",
    "maps = sorted(list(out_dir.rglob(\"*.png\"))) + sorted(list(out_dir.rglob(\"*.jpg\")))\n",
    "rasters = sorted(list(out_dir.rglob(\"*.tif\"))) + sorted(list(out_dir.rglob(\"*.tiff\")))\n",
    "vectors = sorted(list(out_dir.rglob(\"*.gpkg\"))) + sorted(list(out_dir.rglob(\"*.geojson\")))\n",
    "\n",
    "print(f\"Found {len(maps)} map images, {len(rasters)} rasters, {len(vectors)} vectors under {out_dir}\")\n",
    "\n",
    "# Show the latest map if available\n",
    "if maps:\n",
    "    from PIL import Image\n",
    "    display(Image.open(maps[-1]))\n",
    "else:\n",
    "    print(\"No map images found yet.\")"
   ]
  }
 ],
 "metadata": {},
 "nbformat": 4,
 "nbformat_minor": 5
}
