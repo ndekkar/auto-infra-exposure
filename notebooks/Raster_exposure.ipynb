{
 "cells": [
  {
   "cell_type": "markdown",
   "id": "9c05d0eb",
   "metadata": {},
   "source": [
    "# Raster Exposure — utility runner\n",
    "_Generated on 2025-09-14 15:44 UTC_"
   ]
  },
  {
   "cell_type": "markdown",
   "id": "95d4ff93",
   "metadata": {},
   "source": [
    "## Setup & Config"
   ]
  },
  {
   "cell_type": "code",
   "execution_count": null,
   "id": "453b6cc8",
   "metadata": {},
   "outputs": [],
   "source": [
    "# --- Environment & Imports ---\n",
    "import os, sys, glob, json\n",
    "from pathlib import Path\n",
    "\n",
    "# Make sure both the repo root and a potential 'modules/' folder are importable\n",
    "ROOT = Path.cwd()\n",
    "if (ROOT / \"modules\").exists():\n",
    "    sys.path.insert(0, str(ROOT / \"modules\"))\n",
    "sys.path.insert(0, str(ROOT))\n",
    "\n",
    "# Basic utilities\n",
    "import matplotlib.pyplot as plt\n",
    "\n",
    "# YAML config loader (fallback if modules.config_utils not found)\n",
    "try:\n",
    "    from modules.config_utils import load_config  # project helper if available\n",
    "except Exception:\n",
    "    import yaml\n",
    "    def load_config(path):\n",
    "        with open(path, \"r\", encoding=\"utf-8\") as f:\n",
    "            return yaml.safe_load(f)\n",
    "\n",
    "# Helper to auto-detect a config file if not set\n",
    "DEFAULT_CONFIG_CANDIDATES = [\"config.yaml\", \"config.yml\", \"configs/config.yaml\"]\n",
    "for _cand in DEFAULT_CONFIG_CANDIDATES:\n",
    "    if Path(_cand).exists():\n",
    "        CONFIG_PATH = _cand\n",
    "        break\n",
    "else:\n",
    "    # Put a placeholder if nothing found\n",
    "    CONFIG_PATH = \"config.yaml\"  # adjust if needed\n",
    "print(f\"Using CONFIG_PATH = {CONFIG_PATH!r}\")\n",
    "CONFIG = load_config(CONFIG_PATH)\n",
    "CONFIG"
   ]
  },
  {
   "cell_type": "markdown",
   "id": "8f9de35e",
   "metadata": {},
   "source": [
    "## Run generic raster exposure"
   ]
  },
  {
   "cell_type": "code",
   "execution_count": null,
   "id": "5a3213bd",
   "metadata": {},
   "outputs": [],
   "source": [
    "try:\n",
    "    from modules.raster_exposure import process_raster_exposures\n",
    "except Exception:\n",
    "    from raster_exposure import process_raster_exposures\n",
    "\n",
    "import geopandas as gpd\n",
    "\n",
    "aoi_path = CONFIG.get(\"aoi\")\n",
    "aoi_gdf = gpd.read_file(aoi_path) if aoi_path else None\n",
    "\n",
    "# If your CONFIG keeps per-type dicts somewhere, you can pass them directly.\n",
    "# Otherwise, you can load single layers and the function may handle dict creation internally, depending on your implementation.\n",
    "points_by_type = CONFIG.get(\"_points_by_type\")  # set by your pipeline if cached\n",
    "lines_by_type  = CONFIG.get(\"_lines_by_type\")\n",
    "\n",
    "if points_by_type is None or lines_by_type is None:\n",
    "    # Optional: fall back to reading generic inputs\n",
    "    pts_path = CONFIG.get(\"inputs\", {}).get(\"points\")\n",
    "    lns_path = CONFIG.get(\"inputs\", {}).get(\"lines\")\n",
    "    points_by_type = {\"infra\": gpd.read_file(pts_path)} if pts_path else {}\n",
    "    lines_by_type  = {\"infra\": gpd.read_file(lns_path)} if lns_path else {}\n",
    "\n",
    "res = process_raster_exposures(\n",
    "    config=CONFIG,\n",
    "    aoi=aoi_gdf,\n",
    "    points_by_type=points_by_type,\n",
    "    lines_by_type=lines_by_type,\n",
    "    sample_points_per_line=int(CONFIG.get(\"sample_points_per_line\", 10))\n",
    ")\n",
    "print(\"Exposure results keys:\", list(res.keys()))"
   ]
  },
  {
   "cell_type": "code",
   "execution_count": null,
   "id": "b712539b",
   "metadata": {},
   "outputs": [],
   "source": [
    "# --- Browse outputs ---\n",
    "out_dir = Path(CONFIG.get(\"output_dir\", \"output\"))\n",
    "out_dir.mkdir(parents=True, exist_ok=True)\n",
    "maps = sorted(list(out_dir.rglob(\"*.png\"))) + sorted(list(out_dir.rglob(\"*.jpg\")))\n",
    "rasters = sorted(list(out_dir.rglob(\"*.tif\"))) + sorted(list(out_dir.rglob(\"*.tiff\")))\n",
    "vectors = sorted(list(out_dir.rglob(\"*.gpkg\"))) + sorted(list(out_dir.rglob(\"*.geojson\")))\n",
    "\n",
    "print(f\"Found {len(maps)} map images, {len(rasters)} rasters, {len(vectors)} vectors under {out_dir}\")\n",
    "\n",
    "# Show the latest map if available\n",
    "if maps:\n",
    "    from PIL import Image\n",
    "    display(Image.open(maps[-1]))\n",
    "else:\n",
    "    print(\"No map images found yet.\")"
   ]
  }
 ],
 "metadata": {},
 "nbformat": 4,
 "nbformat_minor": 5
}
