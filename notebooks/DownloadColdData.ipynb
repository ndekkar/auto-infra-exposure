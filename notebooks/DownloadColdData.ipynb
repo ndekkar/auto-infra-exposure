{
 "cells": [
  {
   "cell_type": "code",
   "execution_count": 2,
   "id": "7f34f747-5eea-4e6f-b290-0d6979703f53",
   "metadata": {},
   "outputs": [
    {
     "name": "stdout",
     "output_type": "stream",
     "text": [
      "Output dir: /Users/nassimdekkar/Documents/GitHub/RI-Infra-exposure/data/hazards/cold\n",
      "Temp dir  : /Users/nassimdekkar/Documents/GitHub/RI-Infra-exposure/notebooks/_tmp_era5_tjk_cold_allmonths\n",
      "\n",
      "=== YEAR 2010 ===\n",
      "[skip] era5_t2m_hourly_tjk_2010_01.nc\n",
      "[process] era5_t2m_hourly_tjk_2010_01.nc -> daily Tmin & FD part\n",
      "[skip] era5_t2m_hourly_tjk_2010_02.nc\n",
      "[process] era5_t2m_hourly_tjk_2010_02.nc -> daily Tmin & FD part\n",
      "[skip] era5_t2m_hourly_tjk_2010_03.nc\n",
      "[process] era5_t2m_hourly_tjk_2010_03.nc -> daily Tmin & FD part\n",
      "[skip] era5_t2m_hourly_tjk_2010_04.nc\n",
      "[process] era5_t2m_hourly_tjk_2010_04.nc -> daily Tmin & FD part\n",
      "[skip] era5_t2m_hourly_tjk_2010_05.nc\n",
      "[process] era5_t2m_hourly_tjk_2010_05.nc -> daily Tmin & FD part\n",
      "[skip] era5_t2m_hourly_tjk_2010_06.nc\n",
      "[process] era5_t2m_hourly_tjk_2010_06.nc -> daily Tmin & FD part\n",
      "[skip] era5_t2m_hourly_tjk_2010_07.nc\n",
      "[process] era5_t2m_hourly_tjk_2010_07.nc -> daily Tmin & FD part\n",
      "[skip] era5_t2m_hourly_tjk_2010_08.nc\n",
      "[process] era5_t2m_hourly_tjk_2010_08.nc -> daily Tmin & FD part\n",
      "[skip] era5_t2m_hourly_tjk_2010_09.nc\n",
      "[process] era5_t2m_hourly_tjk_2010_09.nc -> daily Tmin & FD part\n",
      "[skip] era5_t2m_hourly_tjk_2010_10.nc\n",
      "[process] era5_t2m_hourly_tjk_2010_10.nc -> daily Tmin & FD part\n",
      "[skip] era5_t2m_hourly_tjk_2010_11.nc\n",
      "[process] era5_t2m_hourly_tjk_2010_11.nc -> daily Tmin & FD part\n",
      "[skip] era5_t2m_hourly_tjk_2010_12.nc\n",
      "[process] era5_t2m_hourly_tjk_2010_12.nc -> daily Tmin & FD part\n",
      "[year 2010] TNn range: -40.3..-5.9 °C | FD range: 22..362 days\n",
      "\n",
      "=== YEAR 2011 ===\n",
      "[skip] era5_t2m_hourly_tjk_2011_01.nc\n",
      "[process] era5_t2m_hourly_tjk_2011_01.nc -> daily Tmin & FD part\n",
      "[skip] era5_t2m_hourly_tjk_2011_02.nc\n",
      "[process] era5_t2m_hourly_tjk_2011_02.nc -> daily Tmin & FD part\n",
      "[skip] era5_t2m_hourly_tjk_2011_03.nc\n",
      "[process] era5_t2m_hourly_tjk_2011_03.nc -> daily Tmin & FD part\n",
      "[skip] era5_t2m_hourly_tjk_2011_04.nc\n",
      "[process] era5_t2m_hourly_tjk_2011_04.nc -> daily Tmin & FD part\n",
      "[skip] era5_t2m_hourly_tjk_2011_05.nc\n",
      "[process] era5_t2m_hourly_tjk_2011_05.nc -> daily Tmin & FD part\n",
      "[skip] era5_t2m_hourly_tjk_2011_06.nc\n",
      "[process] era5_t2m_hourly_tjk_2011_06.nc -> daily Tmin & FD part\n",
      "[skip] era5_t2m_hourly_tjk_2011_07.nc\n",
      "[process] era5_t2m_hourly_tjk_2011_07.nc -> daily Tmin & FD part\n",
      "[skip] era5_t2m_hourly_tjk_2011_08.nc\n",
      "[process] era5_t2m_hourly_tjk_2011_08.nc -> daily Tmin & FD part\n",
      "[skip] era5_t2m_hourly_tjk_2011_09.nc\n",
      "[process] era5_t2m_hourly_tjk_2011_09.nc -> daily Tmin & FD part\n",
      "[skip] era5_t2m_hourly_tjk_2011_10.nc\n",
      "[process] era5_t2m_hourly_tjk_2011_10.nc -> daily Tmin & FD part\n",
      "[skip] era5_t2m_hourly_tjk_2011_11.nc\n",
      "[process] era5_t2m_hourly_tjk_2011_11.nc -> daily Tmin & FD part\n",
      "[skip] era5_t2m_hourly_tjk_2011_12.nc\n",
      "[process] era5_t2m_hourly_tjk_2011_12.nc -> daily Tmin & FD part\n",
      "[year 2011] TNn range: -44.8..-5.7 °C | FD range: 29..365 days\n",
      "\n",
      "=== YEAR 2012 ===\n",
      "[skip] era5_t2m_hourly_tjk_2012_01.nc\n",
      "[process] era5_t2m_hourly_tjk_2012_01.nc -> daily Tmin & FD part\n",
      "[skip] era5_t2m_hourly_tjk_2012_02.nc\n",
      "[process] era5_t2m_hourly_tjk_2012_02.nc -> daily Tmin & FD part\n",
      "[skip] era5_t2m_hourly_tjk_2012_03.nc\n",
      "[process] era5_t2m_hourly_tjk_2012_03.nc -> daily Tmin & FD part\n",
      "[skip] era5_t2m_hourly_tjk_2012_04.nc\n",
      "[process] era5_t2m_hourly_tjk_2012_04.nc -> daily Tmin & FD part\n",
      "[skip] era5_t2m_hourly_tjk_2012_05.nc\n",
      "[process] era5_t2m_hourly_tjk_2012_05.nc -> daily Tmin & FD part\n",
      "[skip] era5_t2m_hourly_tjk_2012_06.nc\n",
      "[process] era5_t2m_hourly_tjk_2012_06.nc -> daily Tmin & FD part\n",
      "[skip] era5_t2m_hourly_tjk_2012_07.nc\n",
      "[process] era5_t2m_hourly_tjk_2012_07.nc -> daily Tmin & FD part\n",
      "[skip] era5_t2m_hourly_tjk_2012_08.nc\n",
      "[process] era5_t2m_hourly_tjk_2012_08.nc -> daily Tmin & FD part\n",
      "[skip] era5_t2m_hourly_tjk_2012_09.nc\n",
      "[process] era5_t2m_hourly_tjk_2012_09.nc -> daily Tmin & FD part\n",
      "[skip] era5_t2m_hourly_tjk_2012_10.nc\n",
      "[process] era5_t2m_hourly_tjk_2012_10.nc -> daily Tmin & FD part\n",
      "[skip] era5_t2m_hourly_tjk_2012_11.nc\n",
      "[process] era5_t2m_hourly_tjk_2012_11.nc -> daily Tmin & FD part\n",
      "[skip] era5_t2m_hourly_tjk_2012_12.nc\n",
      "[process] era5_t2m_hourly_tjk_2012_12.nc -> daily Tmin & FD part\n",
      "[year 2012] TNn range: -43.1..-9.8 °C | FD range: 46..366 days\n",
      "\n",
      "=== YEAR 2013 ===\n",
      "[skip] era5_t2m_hourly_tjk_2013_01.nc\n",
      "[process] era5_t2m_hourly_tjk_2013_01.nc -> daily Tmin & FD part\n",
      "[skip] era5_t2m_hourly_tjk_2013_02.nc\n",
      "[process] era5_t2m_hourly_tjk_2013_02.nc -> daily Tmin & FD part\n",
      "[skip] era5_t2m_hourly_tjk_2013_03.nc\n",
      "[process] era5_t2m_hourly_tjk_2013_03.nc -> daily Tmin & FD part\n",
      "[skip] era5_t2m_hourly_tjk_2013_04.nc\n",
      "[process] era5_t2m_hourly_tjk_2013_04.nc -> daily Tmin & FD part\n",
      "[skip] era5_t2m_hourly_tjk_2013_05.nc\n",
      "[process] era5_t2m_hourly_tjk_2013_05.nc -> daily Tmin & FD part\n",
      "[skip] era5_t2m_hourly_tjk_2013_06.nc\n",
      "[process] era5_t2m_hourly_tjk_2013_06.nc -> daily Tmin & FD part\n",
      "[skip] era5_t2m_hourly_tjk_2013_07.nc\n",
      "[process] era5_t2m_hourly_tjk_2013_07.nc -> daily Tmin & FD part\n",
      "[skip] era5_t2m_hourly_tjk_2013_08.nc\n",
      "[process] era5_t2m_hourly_tjk_2013_08.nc -> daily Tmin & FD part\n",
      "[skip] era5_t2m_hourly_tjk_2013_09.nc\n",
      "[process] era5_t2m_hourly_tjk_2013_09.nc -> daily Tmin & FD part\n",
      "[skip] era5_t2m_hourly_tjk_2013_10.nc\n",
      "[process] era5_t2m_hourly_tjk_2013_10.nc -> daily Tmin & FD part\n",
      "[skip] era5_t2m_hourly_tjk_2013_11.nc\n",
      "[process] era5_t2m_hourly_tjk_2013_11.nc -> daily Tmin & FD part\n",
      "[skip] era5_t2m_hourly_tjk_2013_12.nc\n",
      "[process] era5_t2m_hourly_tjk_2013_12.nc -> daily Tmin & FD part\n",
      "[year 2013] TNn range: -42.4..-3.8 °C | FD range: 25..365 days\n",
      "\n",
      "=== YEAR 2014 ===\n",
      "[skip] era5_t2m_hourly_tjk_2014_01.nc\n",
      "[process] era5_t2m_hourly_tjk_2014_01.nc -> daily Tmin & FD part\n",
      "[skip] era5_t2m_hourly_tjk_2014_02.nc\n",
      "[process] era5_t2m_hourly_tjk_2014_02.nc -> daily Tmin & FD part\n",
      "[skip] era5_t2m_hourly_tjk_2014_03.nc\n",
      "[process] era5_t2m_hourly_tjk_2014_03.nc -> daily Tmin & FD part\n",
      "[skip] era5_t2m_hourly_tjk_2014_04.nc\n",
      "[process] era5_t2m_hourly_tjk_2014_04.nc -> daily Tmin & FD part\n",
      "[skip] era5_t2m_hourly_tjk_2014_05.nc\n",
      "[process] era5_t2m_hourly_tjk_2014_05.nc -> daily Tmin & FD part\n",
      "[skip] era5_t2m_hourly_tjk_2014_06.nc\n",
      "[process] era5_t2m_hourly_tjk_2014_06.nc -> daily Tmin & FD part\n",
      "[skip] era5_t2m_hourly_tjk_2014_07.nc\n",
      "[process] era5_t2m_hourly_tjk_2014_07.nc -> daily Tmin & FD part\n",
      "[skip] era5_t2m_hourly_tjk_2014_08.nc\n",
      "[process] era5_t2m_hourly_tjk_2014_08.nc -> daily Tmin & FD part\n",
      "[skip] era5_t2m_hourly_tjk_2014_09.nc\n",
      "[process] era5_t2m_hourly_tjk_2014_09.nc -> daily Tmin & FD part\n",
      "[skip] era5_t2m_hourly_tjk_2014_10.nc\n",
      "[process] era5_t2m_hourly_tjk_2014_10.nc -> daily Tmin & FD part\n",
      "[skip] era5_t2m_hourly_tjk_2014_11.nc\n",
      "[process] era5_t2m_hourly_tjk_2014_11.nc -> daily Tmin & FD part\n",
      "[skip] era5_t2m_hourly_tjk_2014_12.nc\n",
      "[process] era5_t2m_hourly_tjk_2014_12.nc -> daily Tmin & FD part\n",
      "[year 2014] TNn range: -48.0..-12.1 °C | FD range: 35..365 days\n",
      "\n",
      "=== YEAR 2015 ===\n",
      "[skip] era5_t2m_hourly_tjk_2015_01.nc\n",
      "[process] era5_t2m_hourly_tjk_2015_01.nc -> daily Tmin & FD part\n",
      "[skip] era5_t2m_hourly_tjk_2015_02.nc\n",
      "[process] era5_t2m_hourly_tjk_2015_02.nc -> daily Tmin & FD part\n",
      "[skip] era5_t2m_hourly_tjk_2015_03.nc\n",
      "[process] era5_t2m_hourly_tjk_2015_03.nc -> daily Tmin & FD part\n",
      "[skip] era5_t2m_hourly_tjk_2015_04.nc\n",
      "[process] era5_t2m_hourly_tjk_2015_04.nc -> daily Tmin & FD part\n",
      "[skip] era5_t2m_hourly_tjk_2015_05.nc\n",
      "[process] era5_t2m_hourly_tjk_2015_05.nc -> daily Tmin & FD part\n",
      "[skip] era5_t2m_hourly_tjk_2015_06.nc\n",
      "[process] era5_t2m_hourly_tjk_2015_06.nc -> daily Tmin & FD part\n",
      "[skip] era5_t2m_hourly_tjk_2015_07.nc\n",
      "[process] era5_t2m_hourly_tjk_2015_07.nc -> daily Tmin & FD part\n",
      "[skip] era5_t2m_hourly_tjk_2015_08.nc\n",
      "[process] era5_t2m_hourly_tjk_2015_08.nc -> daily Tmin & FD part\n",
      "[skip] era5_t2m_hourly_tjk_2015_09.nc\n",
      "[process] era5_t2m_hourly_tjk_2015_09.nc -> daily Tmin & FD part\n",
      "[skip] era5_t2m_hourly_tjk_2015_10.nc\n",
      "[process] era5_t2m_hourly_tjk_2015_10.nc -> daily Tmin & FD part\n",
      "[skip] era5_t2m_hourly_tjk_2015_11.nc\n",
      "[process] era5_t2m_hourly_tjk_2015_11.nc -> daily Tmin & FD part\n",
      "[skip] era5_t2m_hourly_tjk_2015_12.nc\n",
      "[process] era5_t2m_hourly_tjk_2015_12.nc -> daily Tmin & FD part\n",
      "[year 2015] TNn range: -42.5..-2.7 °C | FD range: 10..364 days\n",
      "\n",
      "=== YEAR 2016 ===\n",
      "[skip] era5_t2m_hourly_tjk_2016_01.nc\n",
      "[process] era5_t2m_hourly_tjk_2016_01.nc -> daily Tmin & FD part\n",
      "[skip] era5_t2m_hourly_tjk_2016_02.nc\n",
      "[process] era5_t2m_hourly_tjk_2016_02.nc -> daily Tmin & FD part\n",
      "[skip] era5_t2m_hourly_tjk_2016_03.nc\n",
      "[process] era5_t2m_hourly_tjk_2016_03.nc -> daily Tmin & FD part\n",
      "[skip] era5_t2m_hourly_tjk_2016_04.nc\n",
      "[process] era5_t2m_hourly_tjk_2016_04.nc -> daily Tmin & FD part\n",
      "[skip] era5_t2m_hourly_tjk_2016_05.nc\n",
      "[process] era5_t2m_hourly_tjk_2016_05.nc -> daily Tmin & FD part\n",
      "[skip] era5_t2m_hourly_tjk_2016_06.nc\n",
      "[process] era5_t2m_hourly_tjk_2016_06.nc -> daily Tmin & FD part\n",
      "[skip] era5_t2m_hourly_tjk_2016_07.nc\n",
      "[process] era5_t2m_hourly_tjk_2016_07.nc -> daily Tmin & FD part\n",
      "[download] ERA5 hourly t2m 2016-08\n"
     ]
    },
    {
     "name": "stderr",
     "output_type": "stream",
     "text": [
      "2025-10-20 19:10:18,232 INFO Request ID is c4a2673d-32b0-4625-95f7-b1ad608eba06\n",
      "2025-10-20 19:10:18,331 INFO status has been updated to accepted\n",
      "2025-10-20 19:10:26,951 INFO status has been updated to running\n",
      "2025-10-20 19:11:34,268 INFO status has been updated to successful\n"
     ]
    },
    {
     "data": {
      "application/vnd.jupyter.widget-view+json": {
       "model_id": "",
       "version_major": 2,
       "version_minor": 0
      },
      "text/plain": [
       "ccff0f7ba0511faf3a37df7fad097602.nc:   0%|          | 0.00/925k [00:00<?, ?B/s]"
      ]
     },
     "metadata": {},
     "output_type": "display_data"
    },
    {
     "name": "stdout",
     "output_type": "stream",
     "text": [
      "[process] era5_t2m_hourly_tjk_2016_08.nc -> daily Tmin & FD part\n",
      "[download] ERA5 hourly t2m 2016-09\n"
     ]
    },
    {
     "name": "stderr",
     "output_type": "stream",
     "text": [
      "2025-10-20 19:11:35,479 INFO Request ID is 3a22402e-cb49-457b-aba3-46891b6f6f46\n",
      "2025-10-20 19:11:35,551 INFO status has been updated to accepted\n",
      "2025-10-20 19:11:49,238 INFO status has been updated to running\n",
      "2025-10-20 19:11:56,986 INFO status has been updated to accepted\n",
      "2025-10-20 19:12:08,438 INFO status has been updated to running\n",
      "2025-10-20 19:13:29,961 INFO status has been updated to successful\n"
     ]
    },
    {
     "data": {
      "application/vnd.jupyter.widget-view+json": {
       "model_id": "",
       "version_major": 2,
       "version_minor": 0
      },
      "text/plain": [
       "111bcb6b1bd2de5de1e82805d13436f4.nc:   0%|          | 0.00/901k [00:00<?, ?B/s]"
      ]
     },
     "metadata": {},
     "output_type": "display_data"
    },
    {
     "name": "stdout",
     "output_type": "stream",
     "text": [
      "[process] era5_t2m_hourly_tjk_2016_09.nc -> daily Tmin & FD part\n",
      "[download] ERA5 hourly t2m 2016-10\n"
     ]
    },
    {
     "name": "stderr",
     "output_type": "stream",
     "text": [
      "2025-10-20 19:13:31,013 INFO Request ID is 854cbff8-a9be-4a73-b549-364138d3aa5a\n",
      "2025-10-20 19:13:31,085 INFO status has been updated to accepted\n",
      "2025-10-20 19:13:39,751 INFO status has been updated to running\n",
      "2025-10-20 19:14:47,107 INFO status has been updated to successful\n"
     ]
    },
    {
     "data": {
      "application/vnd.jupyter.widget-view+json": {
       "model_id": "",
       "version_major": 2,
       "version_minor": 0
      },
      "text/plain": [
       "b50c72eb313428c993ce4ca3172df929.nc:   0%|          | 0.00/976k [00:00<?, ?B/s]"
      ]
     },
     "metadata": {},
     "output_type": "display_data"
    },
    {
     "name": "stdout",
     "output_type": "stream",
     "text": [
      "[process] era5_t2m_hourly_tjk_2016_10.nc -> daily Tmin & FD part\n",
      "[download] ERA5 hourly t2m 2016-11\n"
     ]
    },
    {
     "name": "stderr",
     "output_type": "stream",
     "text": [
      "2025-10-20 19:14:48,353 INFO Request ID is 03e24435-c80b-494f-b49c-9e99a40aeb66\n",
      "2025-10-20 19:14:48,426 INFO status has been updated to accepted\n",
      "2025-10-20 19:14:53,545 INFO status has been updated to running\n",
      "2025-10-20 19:16:04,345 INFO status has been updated to successful\n"
     ]
    },
    {
     "data": {
      "application/vnd.jupyter.widget-view+json": {
       "model_id": "",
       "version_major": 2,
       "version_minor": 0
      },
      "text/plain": [
       "e8abf3102b215b2e896778923c59ba2f.nc:   0%|          | 0.00/986k [00:00<?, ?B/s]"
      ]
     },
     "metadata": {},
     "output_type": "display_data"
    },
    {
     "name": "stdout",
     "output_type": "stream",
     "text": [
      "[process] era5_t2m_hourly_tjk_2016_11.nc -> daily Tmin & FD part\n",
      "[download] ERA5 hourly t2m 2016-12\n"
     ]
    },
    {
     "name": "stderr",
     "output_type": "stream",
     "text": [
      "2025-10-20 19:16:05,367 INFO Request ID is c975a9f8-b9a1-40ec-9624-3757a9dde7de\n",
      "2025-10-20 19:16:05,456 INFO status has been updated to accepted\n",
      "2025-10-20 19:16:13,944 INFO status has been updated to running\n",
      "2025-10-20 19:17:21,291 INFO status has been updated to successful\n"
     ]
    },
    {
     "data": {
      "application/vnd.jupyter.widget-view+json": {
       "model_id": "",
       "version_major": 2,
       "version_minor": 0
      },
      "text/plain": [
       "78b37a732be518a6d1c680dcc58f46b8.nc:   0%|          | 0.00/0.99M [00:00<?, ?B/s]"
      ]
     },
     "metadata": {},
     "output_type": "display_data"
    },
    {
     "name": "stdout",
     "output_type": "stream",
     "text": [
      "[process] era5_t2m_hourly_tjk_2016_12.nc -> daily Tmin & FD part\n",
      "[year 2016] TNn range: -43.1..-3.9 °C | FD range: 16..366 days\n",
      "\n",
      "=== YEAR 2017 ===\n",
      "[download] ERA5 hourly t2m 2017-01\n"
     ]
    },
    {
     "name": "stderr",
     "output_type": "stream",
     "text": [
      "2025-10-20 19:17:29,239 INFO Request ID is 5f02bbf7-7ad9-4c6a-9f51-7c52198f4609\n",
      "2025-10-20 19:17:29,308 INFO status has been updated to accepted\n",
      "2025-10-20 19:17:37,830 INFO status has been updated to running\n",
      "2025-10-20 19:18:45,102 INFO status has been updated to successful\n"
     ]
    },
    {
     "data": {
      "application/vnd.jupyter.widget-view+json": {
       "model_id": "",
       "version_major": 2,
       "version_minor": 0
      },
      "text/plain": [
       "2507a2b045a1606d68558318cfc2e110.nc:   0%|          | 0.00/0.99M [00:00<?, ?B/s]"
      ]
     },
     "metadata": {},
     "output_type": "display_data"
    },
    {
     "name": "stdout",
     "output_type": "stream",
     "text": [
      "[process] era5_t2m_hourly_tjk_2017_01.nc -> daily Tmin & FD part\n",
      "[download] ERA5 hourly t2m 2017-02\n"
     ]
    },
    {
     "name": "stderr",
     "output_type": "stream",
     "text": [
      "2025-10-20 19:18:46,290 INFO Request ID is 70972b88-c804-4749-8e8e-730ae4e0a0cf\n",
      "2025-10-20 19:18:46,365 INFO status has been updated to accepted\n",
      "2025-10-20 19:18:54,821 INFO status has been updated to running\n",
      "2025-10-20 19:19:36,354 INFO status has been updated to successful\n"
     ]
    },
    {
     "data": {
      "application/vnd.jupyter.widget-view+json": {
       "model_id": "",
       "version_major": 2,
       "version_minor": 0
      },
      "text/plain": [
       "2c7b72f5da5a95ea6b6591b6c9d8d2e4.nc:   0%|          | 0.00/920k [00:00<?, ?B/s]"
      ]
     },
     "metadata": {},
     "output_type": "display_data"
    },
    {
     "name": "stdout",
     "output_type": "stream",
     "text": [
      "[process] era5_t2m_hourly_tjk_2017_02.nc -> daily Tmin & FD part\n",
      "[download] ERA5 hourly t2m 2017-03\n"
     ]
    },
    {
     "name": "stderr",
     "output_type": "stream",
     "text": [
      "2025-10-20 19:19:37,758 INFO Request ID is ea341d41-bab1-4c7d-afd9-72d36c9024cc\n",
      "2025-10-20 19:19:37,834 INFO status has been updated to accepted\n",
      "2025-10-20 19:19:59,112 INFO status has been updated to running\n",
      "2025-10-20 19:21:32,113 INFO status has been updated to successful\n"
     ]
    },
    {
     "data": {
      "application/vnd.jupyter.widget-view+json": {
       "model_id": "",
       "version_major": 2,
       "version_minor": 0
      },
      "text/plain": [
       "4517a1dbd4c0cc595219a94e58e26219.nc:   0%|          | 0.00/985k [00:00<?, ?B/s]"
      ]
     },
     "metadata": {},
     "output_type": "display_data"
    },
    {
     "name": "stdout",
     "output_type": "stream",
     "text": [
      "[process] era5_t2m_hourly_tjk_2017_03.nc -> daily Tmin & FD part\n",
      "[download] ERA5 hourly t2m 2017-04\n"
     ]
    },
    {
     "name": "stderr",
     "output_type": "stream",
     "text": [
      "2025-10-20 19:21:33,463 INFO Request ID is 664a5c6d-43a1-42da-b4f1-143363d2604f\n",
      "2025-10-20 19:21:33,541 INFO status has been updated to accepted\n",
      "2025-10-20 19:21:42,004 INFO status has been updated to running\n",
      "2025-10-20 19:22:23,777 INFO status has been updated to successful\n"
     ]
    },
    {
     "data": {
      "application/vnd.jupyter.widget-view+json": {
       "model_id": "",
       "version_major": 2,
       "version_minor": 0
      },
      "text/plain": [
       "96f3f14e92a40241861b31617a56ec21.nc:   0%|          | 0.00/930k [00:00<?, ?B/s]"
      ]
     },
     "metadata": {},
     "output_type": "display_data"
    },
    {
     "name": "stdout",
     "output_type": "stream",
     "text": [
      "[process] era5_t2m_hourly_tjk_2017_04.nc -> daily Tmin & FD part\n",
      "[download] ERA5 hourly t2m 2017-05\n"
     ]
    },
    {
     "name": "stderr",
     "output_type": "stream",
     "text": [
      "2025-10-20 19:22:24,790 INFO Request ID is cf018189-0dcb-4b08-b552-477e153da6be\n",
      "2025-10-20 19:22:24,860 INFO status has been updated to accepted\n",
      "2025-10-20 19:22:33,371 INFO status has been updated to running\n",
      "2025-10-20 19:23:40,722 INFO status has been updated to successful\n"
     ]
    },
    {
     "data": {
      "application/vnd.jupyter.widget-view+json": {
       "model_id": "",
       "version_major": 2,
       "version_minor": 0
      },
      "text/plain": [
       "cd7ab9f91a427f1ec2e788c47b81e4b0.nc:   0%|          | 0.00/938k [00:00<?, ?B/s]"
      ]
     },
     "metadata": {},
     "output_type": "display_data"
    },
    {
     "name": "stdout",
     "output_type": "stream",
     "text": [
      "[process] era5_t2m_hourly_tjk_2017_05.nc -> daily Tmin & FD part\n",
      "[download] ERA5 hourly t2m 2017-06\n"
     ]
    },
    {
     "name": "stderr",
     "output_type": "stream",
     "text": [
      "2025-10-20 19:23:41,826 INFO Request ID is 612de07a-e55d-474e-a8d6-a3b0f710b517\n",
      "2025-10-20 19:23:41,900 INFO status has been updated to accepted\n",
      "2025-10-20 19:23:50,344 INFO status has been updated to running\n",
      "2025-10-20 19:24:57,840 INFO status has been updated to successful\n"
     ]
    },
    {
     "data": {
      "application/vnd.jupyter.widget-view+json": {
       "model_id": "",
       "version_major": 2,
       "version_minor": 0
      },
      "text/plain": [
       "1772b4e717c7a63ffac04d1f7c66a8e9.nc:   0%|          | 0.00/901k [00:00<?, ?B/s]"
      ]
     },
     "metadata": {},
     "output_type": "display_data"
    },
    {
     "name": "stdout",
     "output_type": "stream",
     "text": [
      "[process] era5_t2m_hourly_tjk_2017_06.nc -> daily Tmin & FD part\n",
      "[download] ERA5 hourly t2m 2017-07\n"
     ]
    },
    {
     "name": "stderr",
     "output_type": "stream",
     "text": [
      "2025-10-20 19:24:58,947 INFO Request ID is a23328e6-6893-4754-a720-e0c1507206d5\n",
      "2025-10-20 19:24:59,023 INFO status has been updated to accepted\n",
      "2025-10-20 19:25:07,699 INFO status has been updated to running\n",
      "2025-10-20 19:25:49,213 INFO status has been updated to successful\n"
     ]
    },
    {
     "data": {
      "application/vnd.jupyter.widget-view+json": {
       "model_id": "",
       "version_major": 2,
       "version_minor": 0
      },
      "text/plain": [
       "9a952edd23525da93a34b455e029569f.nc:   0%|          | 0.00/927k [00:00<?, ?B/s]"
      ]
     },
     "metadata": {},
     "output_type": "display_data"
    },
    {
     "name": "stdout",
     "output_type": "stream",
     "text": [
      "[process] era5_t2m_hourly_tjk_2017_07.nc -> daily Tmin & FD part\n",
      "[download] ERA5 hourly t2m 2017-08\n"
     ]
    },
    {
     "name": "stderr",
     "output_type": "stream",
     "text": [
      "2025-10-20 19:25:50,367 INFO Request ID is 6a3c6b3e-2877-4fc4-aa0b-98883213e778\n",
      "2025-10-20 19:25:50,432 INFO status has been updated to accepted\n",
      "2025-10-20 19:25:58,830 INFO status has been updated to running\n",
      "2025-10-20 19:27:06,139 INFO status has been updated to successful\n"
     ]
    },
    {
     "data": {
      "application/vnd.jupyter.widget-view+json": {
       "model_id": "",
       "version_major": 2,
       "version_minor": 0
      },
      "text/plain": [
       "d7393418a313e888dcf81145d36e0101.nc:   0%|          | 0.00/925k [00:00<?, ?B/s]"
      ]
     },
     "metadata": {},
     "output_type": "display_data"
    },
    {
     "name": "stdout",
     "output_type": "stream",
     "text": [
      "[process] era5_t2m_hourly_tjk_2017_08.nc -> daily Tmin & FD part\n",
      "[download] ERA5 hourly t2m 2017-09\n"
     ]
    },
    {
     "name": "stderr",
     "output_type": "stream",
     "text": [
      "2025-10-20 19:27:07,845 INFO Request ID is 68efcc4e-c9ef-450d-a97b-00e629901057\n",
      "2025-10-20 19:27:07,905 INFO status has been updated to accepted\n",
      "2025-10-20 19:27:16,357 INFO status has been updated to running\n",
      "2025-10-20 19:27:57,898 INFO status has been updated to successful\n"
     ]
    },
    {
     "data": {
      "application/vnd.jupyter.widget-view+json": {
       "model_id": "",
       "version_major": 2,
       "version_minor": 0
      },
      "text/plain": [
       "90b14446cd3a19ecf97f00306c07d389.nc:   0%|          | 0.00/900k [00:00<?, ?B/s]"
      ]
     },
     "metadata": {},
     "output_type": "display_data"
    },
    {
     "name": "stdout",
     "output_type": "stream",
     "text": [
      "[process] era5_t2m_hourly_tjk_2017_09.nc -> daily Tmin & FD part\n",
      "[download] ERA5 hourly t2m 2017-10\n"
     ]
    },
    {
     "name": "stderr",
     "output_type": "stream",
     "text": [
      "2025-10-20 19:27:58,982 INFO Request ID is dec5da38-de89-4d63-ad4b-fea7f6697444\n",
      "2025-10-20 19:27:59,058 INFO status has been updated to accepted\n",
      "2025-10-20 19:28:07,543 INFO status has been updated to running\n",
      "2025-10-20 19:29:14,903 INFO status has been updated to successful\n"
     ]
    },
    {
     "data": {
      "application/vnd.jupyter.widget-view+json": {
       "model_id": "",
       "version_major": 2,
       "version_minor": 0
      },
      "text/plain": [
       "48746142956c1a156ce04691c5f76fed.nc:   0%|          | 0.00/985k [00:00<?, ?B/s]"
      ]
     },
     "metadata": {},
     "output_type": "display_data"
    },
    {
     "name": "stdout",
     "output_type": "stream",
     "text": [
      "[process] era5_t2m_hourly_tjk_2017_10.nc -> daily Tmin & FD part\n",
      "[download] ERA5 hourly t2m 2017-11\n"
     ]
    },
    {
     "name": "stderr",
     "output_type": "stream",
     "text": [
      "2025-10-20 19:29:15,948 INFO Request ID is 2b5d7c3b-4d67-4e48-a172-788c0a19b1c0\n",
      "2025-10-20 19:29:16,001 INFO status has been updated to accepted\n",
      "2025-10-20 19:29:24,635 INFO status has been updated to running\n",
      "2025-10-20 19:29:37,637 INFO status has been updated to accepted\n",
      "2025-10-20 19:29:49,085 INFO status has been updated to running\n",
      "2025-10-20 19:30:06,289 INFO status has been updated to successful\n"
     ]
    },
    {
     "data": {
      "application/vnd.jupyter.widget-view+json": {
       "model_id": "",
       "version_major": 2,
       "version_minor": 0
      },
      "text/plain": [
       "fae0230707fb25b0dad2f170e534d223.nc:   0%|          | 0.00/968k [00:00<?, ?B/s]"
      ]
     },
     "metadata": {},
     "output_type": "display_data"
    },
    {
     "name": "stdout",
     "output_type": "stream",
     "text": [
      "[process] era5_t2m_hourly_tjk_2017_11.nc -> daily Tmin & FD part\n",
      "[download] ERA5 hourly t2m 2017-12\n"
     ]
    },
    {
     "name": "stderr",
     "output_type": "stream",
     "text": [
      "2025-10-20 19:30:07,511 INFO Request ID is f87690dd-4e43-4d37-ba5e-40cc094fcf9e\n",
      "2025-10-20 19:30:07,583 INFO status has been updated to accepted\n",
      "2025-10-20 19:30:15,993 INFO status has been updated to running\n",
      "2025-10-20 19:31:23,313 INFO status has been updated to successful\n"
     ]
    },
    {
     "data": {
      "application/vnd.jupyter.widget-view+json": {
       "model_id": "",
       "version_major": 2,
       "version_minor": 0
      },
      "text/plain": [
       "a7497c4bffc0bd6d4bbd21e4b1ad1693.nc:   0%|          | 0.00/1.00M [00:00<?, ?B/s]"
      ]
     },
     "metadata": {},
     "output_type": "display_data"
    },
    {
     "name": "stdout",
     "output_type": "stream",
     "text": [
      "[process] era5_t2m_hourly_tjk_2017_12.nc -> daily Tmin & FD part\n",
      "[year 2017] TNn range: -43.8..-3.5 °C | FD range: 23..365 days\n",
      "\n",
      "=== YEAR 2018 ===\n",
      "[download] ERA5 hourly t2m 2018-01\n"
     ]
    },
    {
     "name": "stderr",
     "output_type": "stream",
     "text": [
      "2025-10-20 19:31:32,567 INFO Request ID is 5a021f4b-008e-4de2-9bb0-b5d08ccbbe03\n",
      "2025-10-20 19:31:32,635 INFO status has been updated to accepted\n",
      "2025-10-20 19:31:37,622 INFO status has been updated to running\n",
      "2025-10-20 19:32:22,655 INFO status has been updated to successful\n"
     ]
    },
    {
     "data": {
      "application/vnd.jupyter.widget-view+json": {
       "model_id": "",
       "version_major": 2,
       "version_minor": 0
      },
      "text/plain": [
       "2eb7823902de81845950bd902ace9dd9.nc:   0%|          | 0.00/0.99M [00:00<?, ?B/s]"
      ]
     },
     "metadata": {},
     "output_type": "display_data"
    },
    {
     "name": "stdout",
     "output_type": "stream",
     "text": [
      "[process] era5_t2m_hourly_tjk_2018_01.nc -> daily Tmin & FD part\n",
      "[download] ERA5 hourly t2m 2018-02\n"
     ]
    },
    {
     "name": "stderr",
     "output_type": "stream",
     "text": [
      "2025-10-20 19:32:24,214 INFO Request ID is e5911169-af5c-4d45-afa9-e08cd01e3292\n",
      "2025-10-20 19:32:24,292 INFO status has been updated to accepted\n",
      "2025-10-20 19:32:37,934 INFO status has been updated to running\n",
      "2025-10-20 19:33:14,373 INFO status has been updated to successful\n"
     ]
    },
    {
     "data": {
      "application/vnd.jupyter.widget-view+json": {
       "model_id": "",
       "version_major": 2,
       "version_minor": 0
      },
      "text/plain": [
       "773b9665ce0cdc63a20da64cbe32d3d2.nc:   0%|          | 0.00/915k [00:00<?, ?B/s]"
      ]
     },
     "metadata": {},
     "output_type": "display_data"
    },
    {
     "name": "stdout",
     "output_type": "stream",
     "text": [
      "[process] era5_t2m_hourly_tjk_2018_02.nc -> daily Tmin & FD part\n",
      "[download] ERA5 hourly t2m 2018-03\n"
     ]
    },
    {
     "name": "stderr",
     "output_type": "stream",
     "text": [
      "2025-10-20 19:33:16,097 INFO Request ID is 15ed956b-b119-4a05-a641-e837126ffb72\n",
      "2025-10-20 19:33:16,163 INFO status has been updated to accepted\n",
      "2025-10-20 19:33:29,790 INFO status has been updated to running\n",
      "2025-10-20 19:35:10,560 INFO status has been updated to successful\n"
     ]
    },
    {
     "data": {
      "application/vnd.jupyter.widget-view+json": {
       "model_id": "",
       "version_major": 2,
       "version_minor": 0
      },
      "text/plain": [
       "d36e6f40483e15c72268b6b8e28a945c.nc:   0%|          | 0.00/985k [00:00<?, ?B/s]"
      ]
     },
     "metadata": {},
     "output_type": "display_data"
    },
    {
     "name": "stdout",
     "output_type": "stream",
     "text": [
      "[process] era5_t2m_hourly_tjk_2018_03.nc -> daily Tmin & FD part\n",
      "[download] ERA5 hourly t2m 2018-04\n"
     ]
    },
    {
     "name": "stderr",
     "output_type": "stream",
     "text": [
      "2025-10-20 19:35:11,695 INFO Request ID is c26c99e3-3e41-42fb-b4d5-6ce3a451717a\n",
      "2025-10-20 19:35:12,044 INFO status has been updated to accepted\n",
      "2025-10-20 19:35:20,475 INFO status has been updated to running\n",
      "2025-10-20 19:36:27,774 INFO status has been updated to successful\n"
     ]
    },
    {
     "data": {
      "application/vnd.jupyter.widget-view+json": {
       "model_id": "",
       "version_major": 2,
       "version_minor": 0
      },
      "text/plain": [
       "6384c3536fc88a2d877be9e128b4858b.nc:   0%|          | 0.00/939k [00:00<?, ?B/s]"
      ]
     },
     "metadata": {},
     "output_type": "display_data"
    },
    {
     "name": "stdout",
     "output_type": "stream",
     "text": [
      "[process] era5_t2m_hourly_tjk_2018_04.nc -> daily Tmin & FD part\n",
      "[download] ERA5 hourly t2m 2018-05\n"
     ]
    },
    {
     "name": "stderr",
     "output_type": "stream",
     "text": [
      "2025-10-20 19:36:29,755 INFO Request ID is e4486082-7384-45c5-9c1e-8c7513d0ad0a\n",
      "2025-10-20 19:36:29,817 INFO status has been updated to accepted\n",
      "2025-10-20 19:36:38,296 INFO status has been updated to running\n",
      "2025-10-20 19:37:46,195 INFO status has been updated to successful\n"
     ]
    },
    {
     "data": {
      "application/vnd.jupyter.widget-view+json": {
       "model_id": "",
       "version_major": 2,
       "version_minor": 0
      },
      "text/plain": [
       "d9199d55420524c806fe035c036acf61.nc:   0%|          | 0.00/942k [00:00<?, ?B/s]"
      ]
     },
     "metadata": {},
     "output_type": "display_data"
    },
    {
     "name": "stdout",
     "output_type": "stream",
     "text": [
      "[process] era5_t2m_hourly_tjk_2018_05.nc -> daily Tmin & FD part\n",
      "[download] ERA5 hourly t2m 2018-06\n"
     ]
    },
    {
     "name": "stderr",
     "output_type": "stream",
     "text": [
      "2025-10-20 19:37:47,509 INFO Request ID is 1c3528b0-9f7a-442f-b62f-afa73e14d35d\n",
      "2025-10-20 19:37:47,582 INFO status has been updated to accepted\n",
      "2025-10-20 19:38:01,235 INFO status has been updated to running\n",
      "2025-10-20 19:39:03,353 INFO status has been updated to successful\n"
     ]
    },
    {
     "data": {
      "application/vnd.jupyter.widget-view+json": {
       "model_id": "",
       "version_major": 2,
       "version_minor": 0
      },
      "text/plain": [
       "35fd01126f4006f19dd6640f8f2d5285.nc:   0%|          | 0.00/901k [00:00<?, ?B/s]"
      ]
     },
     "metadata": {},
     "output_type": "display_data"
    },
    {
     "name": "stdout",
     "output_type": "stream",
     "text": [
      "[process] era5_t2m_hourly_tjk_2018_06.nc -> daily Tmin & FD part\n",
      "[download] ERA5 hourly t2m 2018-07\n"
     ]
    },
    {
     "name": "stderr",
     "output_type": "stream",
     "text": [
      "2025-10-20 19:39:04,807 INFO Request ID is 5ae13540-82ae-4aed-839f-47e39c3b2e84\n",
      "2025-10-20 19:39:04,881 INFO status has been updated to accepted\n",
      "2025-10-20 19:39:18,469 INFO status has been updated to running\n",
      "2025-10-20 19:39:54,822 INFO status has been updated to successful\n"
     ]
    },
    {
     "data": {
      "application/vnd.jupyter.widget-view+json": {
       "model_id": "",
       "version_major": 2,
       "version_minor": 0
      },
      "text/plain": [
       "77fdae83d26cf2053cc69f69c81f1dae.nc:   0%|          | 0.00/927k [00:00<?, ?B/s]"
      ]
     },
     "metadata": {},
     "output_type": "display_data"
    },
    {
     "name": "stdout",
     "output_type": "stream",
     "text": [
      "[process] era5_t2m_hourly_tjk_2018_07.nc -> daily Tmin & FD part\n",
      "[download] ERA5 hourly t2m 2018-08\n"
     ]
    },
    {
     "name": "stderr",
     "output_type": "stream",
     "text": [
      "2025-10-20 19:39:55,980 INFO Request ID is 3c0f383f-3af6-4427-b1ed-247b211f6550\n",
      "2025-10-20 19:39:56,043 INFO status has been updated to accepted\n",
      "2025-10-20 19:40:04,450 INFO status has been updated to running\n",
      "2025-10-20 19:40:45,949 INFO status has been updated to successful\n"
     ]
    },
    {
     "data": {
      "application/vnd.jupyter.widget-view+json": {
       "model_id": "",
       "version_major": 2,
       "version_minor": 0
      },
      "text/plain": [
       "e59e2d396ab09113f6ca7dd97daf19a4.nc:   0%|          | 0.00/928k [00:00<?, ?B/s]"
      ]
     },
     "metadata": {},
     "output_type": "display_data"
    },
    {
     "name": "stdout",
     "output_type": "stream",
     "text": [
      "[process] era5_t2m_hourly_tjk_2018_08.nc -> daily Tmin & FD part\n",
      "[download] ERA5 hourly t2m 2018-09\n"
     ]
    },
    {
     "name": "stderr",
     "output_type": "stream",
     "text": [
      "2025-10-20 19:40:47,113 INFO Request ID is 49f6dabd-1407-42c9-90b5-864605d8f260\n",
      "2025-10-20 19:40:47,315 INFO status has been updated to accepted\n",
      "2025-10-20 19:40:55,787 INFO status has been updated to running\n",
      "2025-10-20 19:42:03,079 INFO status has been updated to successful\n"
     ]
    },
    {
     "data": {
      "application/vnd.jupyter.widget-view+json": {
       "model_id": "",
       "version_major": 2,
       "version_minor": 0
      },
      "text/plain": [
       "b72aa9cb90280bb9ec93f8416668b6ca.nc:   0%|          | 0.00/909k [00:00<?, ?B/s]"
      ]
     },
     "metadata": {},
     "output_type": "display_data"
    },
    {
     "name": "stdout",
     "output_type": "stream",
     "text": [
      "[process] era5_t2m_hourly_tjk_2018_09.nc -> daily Tmin & FD part\n",
      "[download] ERA5 hourly t2m 2018-10\n"
     ]
    },
    {
     "name": "stderr",
     "output_type": "stream",
     "text": [
      "2025-10-20 19:42:04,306 INFO Request ID is 25078783-6bbe-4ff6-b6e4-b1c77584c141\n",
      "2025-10-20 19:42:04,386 INFO status has been updated to accepted\n",
      "2025-10-20 19:42:17,995 INFO status has been updated to running\n",
      "2025-10-20 19:42:37,163 INFO status has been updated to accepted\n",
      "Recovering from connection error [('Connection aborted.', RemoteDisconnected('Remote end closed connection without response'))], attempt 1 of 500\n",
      "Retrying in 120 seconds\n",
      "Recovering from connection error [('Connection aborted.', RemoteDisconnected('Remote end closed connection without response'))], attempt 2 of 500\n",
      "Retrying in 120 seconds\n",
      "2025-10-20 20:25:32,918 INFO status has been updated to successful\n"
     ]
    },
    {
     "data": {
      "application/vnd.jupyter.widget-view+json": {
       "model_id": "",
       "version_major": 2,
       "version_minor": 0
      },
      "text/plain": [
       "191626bc0a3138ac7f405de81f9794b8.nc:   0%|          | 0.00/986k [00:00<?, ?B/s]"
      ]
     },
     "metadata": {},
     "output_type": "display_data"
    },
    {
     "name": "stdout",
     "output_type": "stream",
     "text": [
      "[process] era5_t2m_hourly_tjk_2018_10.nc -> daily Tmin & FD part\n",
      "[download] ERA5 hourly t2m 2018-11\n"
     ]
    },
    {
     "name": "stderr",
     "output_type": "stream",
     "text": [
      "2025-10-20 20:25:34,988 INFO Request ID is b8bbbb4c-a6d6-47c7-ae33-aae89b7a12ff\n",
      "2025-10-20 20:25:35,111 INFO status has been updated to accepted\n",
      "2025-10-20 20:25:49,013 INFO status has been updated to running\n",
      "2025-10-20 20:26:25,625 INFO status has been updated to successful\n"
     ]
    },
    {
     "data": {
      "application/vnd.jupyter.widget-view+json": {
       "model_id": "",
       "version_major": 2,
       "version_minor": 0
      },
      "text/plain": [
       "9ec79670b7d8e66ba3d8adf82ee61a04.nc:   0%|          | 0.00/977k [00:00<?, ?B/s]"
      ]
     },
     "metadata": {},
     "output_type": "display_data"
    },
    {
     "name": "stdout",
     "output_type": "stream",
     "text": [
      "[process] era5_t2m_hourly_tjk_2018_11.nc -> daily Tmin & FD part\n",
      "[download] ERA5 hourly t2m 2018-12\n"
     ]
    },
    {
     "name": "stderr",
     "output_type": "stream",
     "text": [
      "2025-10-20 20:26:27,874 INFO Request ID is 0ba4c86e-bc0a-46a5-8441-ce179a96a249\n",
      "2025-10-20 20:26:27,976 INFO status has been updated to accepted\n",
      "2025-10-20 20:26:36,591 INFO status has been updated to running\n",
      "2025-10-20 20:27:18,566 INFO status has been updated to successful\n"
     ]
    },
    {
     "data": {
      "application/vnd.jupyter.widget-view+json": {
       "model_id": "",
       "version_major": 2,
       "version_minor": 0
      },
      "text/plain": [
       "205942b7edfdba9c5db80cbf6325542.nc:   0%|          | 0.00/0.99M [00:00<?, ?B/s]"
      ]
     },
     "metadata": {},
     "output_type": "display_data"
    },
    {
     "name": "stdout",
     "output_type": "stream",
     "text": [
      "[process] era5_t2m_hourly_tjk_2018_12.nc -> daily Tmin & FD part\n",
      "[year 2018] TNn range: -42.2..-7.7 °C | FD range: 13..365 days\n",
      "\n",
      "=== YEAR 2019 ===\n",
      "[download] ERA5 hourly t2m 2019-01\n"
     ]
    },
    {
     "name": "stderr",
     "output_type": "stream",
     "text": [
      "2025-10-20 20:27:27,549 INFO Request ID is a3f0ec05-2bec-4cbd-b1e5-cb02aa6533b8\n",
      "2025-10-20 20:27:27,649 INFO status has been updated to accepted\n",
      "2025-10-20 20:27:41,482 INFO status has been updated to running\n",
      "2025-10-20 20:28:43,945 INFO status has been updated to successful\n"
     ]
    },
    {
     "data": {
      "application/vnd.jupyter.widget-view+json": {
       "model_id": "",
       "version_major": 2,
       "version_minor": 0
      },
      "text/plain": [
       "5c4c5ed11d43256a5ed12627ed7104b3.nc:   0%|          | 0.00/0.98M [00:00<?, ?B/s]"
      ]
     },
     "metadata": {},
     "output_type": "display_data"
    },
    {
     "name": "stdout",
     "output_type": "stream",
     "text": [
      "[process] era5_t2m_hourly_tjk_2019_01.nc -> daily Tmin & FD part\n",
      "[download] ERA5 hourly t2m 2019-02\n"
     ]
    },
    {
     "name": "stderr",
     "output_type": "stream",
     "text": [
      "2025-10-20 20:28:45,612 INFO Request ID is 9a9bc1f4-d849-484d-ab24-2f41fb168443\n",
      "2025-10-20 20:28:45,740 INFO status has been updated to accepted\n",
      "2025-10-20 20:29:18,869 INFO status has been updated to running\n",
      "2025-10-20 20:30:01,996 INFO status has been updated to successful\n"
     ]
    },
    {
     "data": {
      "application/vnd.jupyter.widget-view+json": {
       "model_id": "",
       "version_major": 2,
       "version_minor": 0
      },
      "text/plain": [
       "59a320aadea23f759ff3c48b6d3ee638.nc:   0%|          | 0.00/919k [00:00<?, ?B/s]"
      ]
     },
     "metadata": {},
     "output_type": "display_data"
    },
    {
     "name": "stdout",
     "output_type": "stream",
     "text": [
      "[process] era5_t2m_hourly_tjk_2019_02.nc -> daily Tmin & FD part\n",
      "[download] ERA5 hourly t2m 2019-03\n"
     ]
    },
    {
     "name": "stderr",
     "output_type": "stream",
     "text": [
      "2025-10-20 20:30:03,865 INFO Request ID is cf197000-bbb8-4aff-8510-b5bed7cf2acf\n",
      "2025-10-20 20:30:04,054 INFO status has been updated to accepted\n",
      "2025-10-20 20:30:09,253 INFO status has been updated to running\n",
      "2025-10-20 20:30:54,407 INFO status has been updated to successful\n"
     ]
    },
    {
     "data": {
      "application/vnd.jupyter.widget-view+json": {
       "model_id": "",
       "version_major": 2,
       "version_minor": 0
      },
      "text/plain": [
       "e7f440d62de600d4adf791e6cf0c0e77.nc:   0%|          | 0.00/985k [00:00<?, ?B/s]"
      ]
     },
     "metadata": {},
     "output_type": "display_data"
    },
    {
     "name": "stdout",
     "output_type": "stream",
     "text": [
      "[process] era5_t2m_hourly_tjk_2019_03.nc -> daily Tmin & FD part\n",
      "[download] ERA5 hourly t2m 2019-04\n"
     ]
    },
    {
     "name": "stderr",
     "output_type": "stream",
     "text": [
      "2025-10-20 20:30:55,676 INFO Request ID is 6e357d2f-0b31-4d49-93ea-30f13d0f576a\n",
      "2025-10-20 20:30:55,737 INFO status has been updated to accepted\n",
      "2025-10-20 20:31:04,188 INFO status has been updated to running\n",
      "2025-10-20 20:32:11,735 INFO status has been updated to successful\n"
     ]
    },
    {
     "data": {
      "application/vnd.jupyter.widget-view+json": {
       "model_id": "",
       "version_major": 2,
       "version_minor": 0
      },
      "text/plain": [
       "36df1329cc764715a48dfb898b269b03.nc:   0%|          | 0.00/921k [00:00<?, ?B/s]"
      ]
     },
     "metadata": {},
     "output_type": "display_data"
    },
    {
     "name": "stdout",
     "output_type": "stream",
     "text": [
      "[process] era5_t2m_hourly_tjk_2019_04.nc -> daily Tmin & FD part\n",
      "[download] ERA5 hourly t2m 2019-05\n"
     ]
    },
    {
     "name": "stderr",
     "output_type": "stream",
     "text": [
      "2025-10-20 20:32:14,003 INFO Request ID is 30d893dc-0558-47e6-a48f-81f32e9d514b\n",
      "2025-10-20 20:32:14,131 INFO status has been updated to accepted\n",
      "2025-10-20 20:32:22,706 INFO status has been updated to running\n",
      "2025-10-20 20:33:30,312 INFO status has been updated to successful\n"
     ]
    },
    {
     "data": {
      "application/vnd.jupyter.widget-view+json": {
       "model_id": "",
       "version_major": 2,
       "version_minor": 0
      },
      "text/plain": [
       "e5cc6d598f4c0813db58a7c0c2b88ef6.nc:   0%|          | 0.00/958k [00:00<?, ?B/s]"
      ]
     },
     "metadata": {},
     "output_type": "display_data"
    },
    {
     "name": "stdout",
     "output_type": "stream",
     "text": [
      "[process] era5_t2m_hourly_tjk_2019_05.nc -> daily Tmin & FD part\n",
      "[download] ERA5 hourly t2m 2019-06\n"
     ]
    },
    {
     "name": "stderr",
     "output_type": "stream",
     "text": [
      "2025-10-20 20:33:31,850 INFO Request ID is 15929469-0442-48e0-b4d3-1430b8e91812\n",
      "2025-10-20 20:33:31,937 INFO status has been updated to accepted\n",
      "2025-10-20 20:33:40,517 INFO status has been updated to running\n",
      "2025-10-20 20:34:48,008 INFO status has been updated to successful\n"
     ]
    },
    {
     "data": {
      "application/vnd.jupyter.widget-view+json": {
       "model_id": "",
       "version_major": 2,
       "version_minor": 0
      },
      "text/plain": [
       "334735acdf1430b5d94d3a6cd3f784e7.nc:   0%|          | 0.00/909k [00:00<?, ?B/s]"
      ]
     },
     "metadata": {},
     "output_type": "display_data"
    },
    {
     "name": "stdout",
     "output_type": "stream",
     "text": [
      "[process] era5_t2m_hourly_tjk_2019_06.nc -> daily Tmin & FD part\n",
      "[download] ERA5 hourly t2m 2019-07\n"
     ]
    },
    {
     "name": "stderr",
     "output_type": "stream",
     "text": [
      "2025-10-20 20:34:49,606 INFO Request ID is a35843e8-4dc6-4327-825f-a2c0dbfc8fef\n",
      "2025-10-20 20:34:49,701 INFO status has been updated to accepted\n",
      "2025-10-20 20:34:58,393 INFO status has been updated to running\n",
      "2025-10-20 20:36:05,968 INFO status has been updated to successful\n"
     ]
    },
    {
     "data": {
      "application/vnd.jupyter.widget-view+json": {
       "model_id": "",
       "version_major": 2,
       "version_minor": 0
      },
      "text/plain": [
       "bb85e3c11e370c4982b16bd314b979f.nc:   0%|          | 0.00/928k [00:00<?, ?B/s]"
      ]
     },
     "metadata": {},
     "output_type": "display_data"
    },
    {
     "name": "stdout",
     "output_type": "stream",
     "text": [
      "[process] era5_t2m_hourly_tjk_2019_07.nc -> daily Tmin & FD part\n",
      "[download] ERA5 hourly t2m 2019-08\n"
     ]
    },
    {
     "name": "stderr",
     "output_type": "stream",
     "text": [
      "2025-10-20 20:36:07,752 INFO Request ID is 34ca8605-36a2-439d-82de-1ede4277d0a2\n",
      "2025-10-20 20:36:07,827 INFO status has been updated to accepted\n",
      "2025-10-20 20:36:16,378 INFO status has been updated to running\n",
      "2025-10-20 20:37:23,935 INFO status has been updated to successful\n"
     ]
    },
    {
     "data": {
      "application/vnd.jupyter.widget-view+json": {
       "model_id": "",
       "version_major": 2,
       "version_minor": 0
      },
      "text/plain": [
       "4d55d956ec0eb9efb594955fe61883c9.nc:   0%|          | 0.00/933k [00:00<?, ?B/s]"
      ]
     },
     "metadata": {},
     "output_type": "display_data"
    },
    {
     "name": "stdout",
     "output_type": "stream",
     "text": [
      "[process] era5_t2m_hourly_tjk_2019_08.nc -> daily Tmin & FD part\n",
      "[download] ERA5 hourly t2m 2019-09\n"
     ]
    },
    {
     "name": "stderr",
     "output_type": "stream",
     "text": [
      "2025-10-20 20:37:25,314 INFO Request ID is ddda412c-213d-4cef-9aaa-6cf16e7dbf7b\n",
      "2025-10-20 20:37:25,403 INFO status has been updated to accepted\n",
      "2025-10-20 20:37:39,002 INFO status has been updated to running\n",
      "2025-10-20 20:38:15,462 INFO status has been updated to successful\n"
     ]
    },
    {
     "data": {
      "application/vnd.jupyter.widget-view+json": {
       "model_id": "",
       "version_major": 2,
       "version_minor": 0
      },
      "text/plain": [
       "c608d8b8e67e5a8c6fcdad0ae0467a1b.nc:   0%|          | 0.00/908k [00:00<?, ?B/s]"
      ]
     },
     "metadata": {},
     "output_type": "display_data"
    },
    {
     "name": "stdout",
     "output_type": "stream",
     "text": [
      "[process] era5_t2m_hourly_tjk_2019_09.nc -> daily Tmin & FD part\n",
      "[download] ERA5 hourly t2m 2019-10\n"
     ]
    },
    {
     "name": "stderr",
     "output_type": "stream",
     "text": [
      "2025-10-20 20:38:16,935 INFO Request ID is e3e9e2f7-5ab6-4694-ad71-2fa58321433f\n",
      "2025-10-20 20:38:16,989 INFO status has been updated to accepted\n",
      "2025-10-20 20:38:25,526 INFO status has been updated to running\n",
      "2025-10-20 20:39:33,090 INFO status has been updated to successful\n"
     ]
    },
    {
     "data": {
      "application/vnd.jupyter.widget-view+json": {
       "model_id": "8dbc83873d4442208b83a394c722a12b",
       "version_major": 2,
       "version_minor": 0
      },
      "text/plain": [
       "f6fc43b420622b35a5e686e7bfda7e6c.nc:   0%|          | 0.00/968k [00:00<?, ?B/s]"
      ]
     },
     "metadata": {},
     "output_type": "display_data"
    },
    {
     "name": "stderr",
     "output_type": "stream",
     "text": [
      "Recovering from connection error [HTTPSConnectionPool(host='object-store.os-api.cci2.ecmwf.int', port=443): Read timed out. (read timeout=60)], attempt 1 of 500\n",
      "Retrying in 120 seconds\n"
     ]
    },
    {
     "data": {
      "application/vnd.jupyter.widget-view+json": {
       "model_id": "",
       "version_major": 2,
       "version_minor": 0
      },
      "text/plain": [
       "f6fc43b420622b35a5e686e7bfda7e6c.nc:   0%|          | 0.00/968k [00:00<?, ?B/s]"
      ]
     },
     "metadata": {},
     "output_type": "display_data"
    },
    {
     "name": "stdout",
     "output_type": "stream",
     "text": [
      "[process] era5_t2m_hourly_tjk_2019_10.nc -> daily Tmin & FD part\n",
      "[download] ERA5 hourly t2m 2019-11\n"
     ]
    },
    {
     "name": "stderr",
     "output_type": "stream",
     "text": [
      "Recovering from connection error [('Connection aborted.', RemoteDisconnected('Remote end closed connection without response'))], attempt 1 of 500\n",
      "Retrying in 120 seconds\n",
      "Recovering from connection error [('Connection aborted.', RemoteDisconnected('Remote end closed connection without response'))], attempt 2 of 500\n",
      "Retrying in 120 seconds\n",
      "2025-10-20 20:47:56,328 INFO Request ID is 195a738b-e613-44d1-9bae-d12aad352483\n",
      "2025-10-20 20:47:56,402 INFO status has been updated to accepted\n",
      "2025-10-20 20:48:04,847 INFO status has been updated to running\n",
      "2025-10-20 20:49:12,106 INFO status has been updated to successful\n"
     ]
    },
    {
     "data": {
      "application/vnd.jupyter.widget-view+json": {
       "model_id": "",
       "version_major": 2,
       "version_minor": 0
      },
      "text/plain": [
       "ed4210743647aa6a8cac1df795cc60b0.nc:   0%|          | 0.00/979k [00:00<?, ?B/s]"
      ]
     },
     "metadata": {},
     "output_type": "display_data"
    },
    {
     "name": "stdout",
     "output_type": "stream",
     "text": [
      "[process] era5_t2m_hourly_tjk_2019_11.nc -> daily Tmin & FD part\n",
      "[download] ERA5 hourly t2m 2019-12\n"
     ]
    },
    {
     "name": "stderr",
     "output_type": "stream",
     "text": [
      "2025-10-20 20:49:13,210 INFO Request ID is 50361995-bd89-4506-8174-d21c987a2b33\n",
      "2025-10-20 20:49:13,278 INFO status has been updated to accepted\n",
      "2025-10-20 20:49:21,745 INFO status has been updated to running\n",
      "2025-10-20 20:50:03,226 INFO status has been updated to successful\n"
     ]
    },
    {
     "data": {
      "application/vnd.jupyter.widget-view+json": {
       "model_id": "",
       "version_major": 2,
       "version_minor": 0
      },
      "text/plain": [
       "7a9ee4c8045662267f3e424bd18aa7b9.nc: 0.00B [00:00, ?B/s]"
      ]
     },
     "metadata": {},
     "output_type": "display_data"
    },
    {
     "name": "stdout",
     "output_type": "stream",
     "text": [
      "[process] era5_t2m_hourly_tjk_2019_12.nc -> daily Tmin & FD part\n",
      "[year 2019] TNn range: -41.9..0.2 °C | FD range: 0..365 days\n",
      "\n",
      "=== YEAR 2020 ===\n",
      "[download] ERA5 hourly t2m 2020-01\n"
     ]
    },
    {
     "name": "stderr",
     "output_type": "stream",
     "text": [
      "2025-10-20 20:50:48,687 INFO Request ID is 4edcd1ff-3063-4251-9bb1-d6d331b5f931\n",
      "2025-10-20 20:50:48,761 INFO status has been updated to accepted\n",
      "2025-10-20 20:50:57,163 INFO status has been updated to running\n",
      "2025-10-20 20:51:02,281 INFO status has been updated to accepted\n",
      "2025-10-20 20:51:10,037 INFO status has been updated to running\n",
      "2025-10-20 20:52:04,459 INFO status has been updated to successful\n"
     ]
    },
    {
     "data": {
      "application/vnd.jupyter.widget-view+json": {
       "model_id": "",
       "version_major": 2,
       "version_minor": 0
      },
      "text/plain": [
       "6695c698c41bf294707ed5385b98cfc7.nc:   0%|          | 0.00/0.99M [00:00<?, ?B/s]"
      ]
     },
     "metadata": {},
     "output_type": "display_data"
    },
    {
     "name": "stdout",
     "output_type": "stream",
     "text": [
      "[process] era5_t2m_hourly_tjk_2020_01.nc -> daily Tmin & FD part\n",
      "[download] ERA5 hourly t2m 2020-02\n"
     ]
    },
    {
     "name": "stderr",
     "output_type": "stream",
     "text": [
      "2025-10-20 20:52:05,519 INFO Request ID is 56b99b30-7824-4ef4-bbb4-da08255ae2d7\n",
      "2025-10-20 20:52:05,578 INFO status has been updated to accepted\n",
      "2025-10-20 20:52:14,090 INFO status has been updated to running\n",
      "2025-10-20 20:52:55,636 INFO status has been updated to successful\n"
     ]
    },
    {
     "data": {
      "application/vnd.jupyter.widget-view+json": {
       "model_id": "",
       "version_major": 2,
       "version_minor": 0
      },
      "text/plain": [
       "e9180550f618fc79716e5f66963d7505.nc:   0%|          | 0.00/948k [00:00<?, ?B/s]"
      ]
     },
     "metadata": {},
     "output_type": "display_data"
    },
    {
     "name": "stdout",
     "output_type": "stream",
     "text": [
      "[process] era5_t2m_hourly_tjk_2020_02.nc -> daily Tmin & FD part\n",
      "[download] ERA5 hourly t2m 2020-03\n"
     ]
    },
    {
     "name": "stderr",
     "output_type": "stream",
     "text": [
      "2025-10-20 20:52:56,832 INFO Request ID is 1d0df13e-824f-473c-ba9c-c3bbb3b9dccd\n",
      "2025-10-20 20:52:56,899 INFO status has been updated to accepted\n",
      "2025-10-20 20:53:10,500 INFO status has been updated to running\n",
      "2025-10-20 20:54:12,765 INFO status has been updated to successful\n"
     ]
    },
    {
     "data": {
      "application/vnd.jupyter.widget-view+json": {
       "model_id": "0ee2b7fa3861440793647bccf2ba7c88",
       "version_major": 2,
       "version_minor": 0
      },
      "text/plain": [
       "8ed87811d28a56077e6cd2de35dee074.nc:   0%|          | 0.00/987k [00:00<?, ?B/s]"
      ]
     },
     "metadata": {},
     "output_type": "display_data"
    },
    {
     "name": "stderr",
     "output_type": "stream",
     "text": [
      "Recovering from connection error [HTTPSConnectionPool(host='object-store.os-api.cci2.ecmwf.int', port=443): Read timed out. (read timeout=60)], attempt 1 of 500\n",
      "Retrying in 120 seconds\n"
     ]
    },
    {
     "data": {
      "application/vnd.jupyter.widget-view+json": {
       "model_id": "",
       "version_major": 2,
       "version_minor": 0
      },
      "text/plain": [
       "8ed87811d28a56077e6cd2de35dee074.nc:   0%|          | 0.00/987k [00:00<?, ?B/s]"
      ]
     },
     "metadata": {},
     "output_type": "display_data"
    },
    {
     "name": "stdout",
     "output_type": "stream",
     "text": [
      "[process] era5_t2m_hourly_tjk_2020_03.nc -> daily Tmin & FD part\n",
      "[download] ERA5 hourly t2m 2020-04\n"
     ]
    },
    {
     "name": "stderr",
     "output_type": "stream",
     "text": [
      "Recovering from connection error [('Connection aborted.', RemoteDisconnected('Remote end closed connection without response'))], attempt 1 of 500\n",
      "Retrying in 120 seconds\n",
      "2025-10-20 20:59:58,107 INFO Request ID is 0b87f3ae-b07e-477e-a195-bc20bf88163f\n",
      "2025-10-20 20:59:58,183 INFO status has been updated to accepted\n",
      "2025-10-20 21:00:03,381 INFO status has been updated to running\n",
      "2025-10-20 21:01:52,738 INFO status has been updated to successful\n"
     ]
    },
    {
     "data": {
      "application/vnd.jupyter.widget-view+json": {
       "model_id": "",
       "version_major": 2,
       "version_minor": 0
      },
      "text/plain": [
       "b045de6b203b37366156623869790208.nc:   0%|          | 0.00/940k [00:00<?, ?B/s]"
      ]
     },
     "metadata": {},
     "output_type": "display_data"
    },
    {
     "name": "stdout",
     "output_type": "stream",
     "text": [
      "[process] era5_t2m_hourly_tjk_2020_04.nc -> daily Tmin & FD part\n",
      "[download] ERA5 hourly t2m 2020-05\n"
     ]
    },
    {
     "name": "stderr",
     "output_type": "stream",
     "text": [
      "2025-10-20 21:01:54,719 INFO Request ID is 4150e410-622e-448c-9f31-e49282d474bd\n",
      "2025-10-20 21:01:54,783 INFO status has been updated to accepted\n",
      "2025-10-20 21:02:16,037 INFO status has been updated to running\n",
      "2025-10-20 21:02:27,527 INFO status has been updated to successful\n"
     ]
    },
    {
     "data": {
      "application/vnd.jupyter.widget-view+json": {
       "model_id": "",
       "version_major": 2,
       "version_minor": 0
      },
      "text/plain": [
       "6b405dc951a4d4326bb03f735f24e4b7.nc:   0%|          | 0.00/941k [00:00<?, ?B/s]"
      ]
     },
     "metadata": {},
     "output_type": "display_data"
    },
    {
     "name": "stdout",
     "output_type": "stream",
     "text": [
      "[process] era5_t2m_hourly_tjk_2020_05.nc -> daily Tmin & FD part\n",
      "[download] ERA5 hourly t2m 2020-06\n"
     ]
    },
    {
     "name": "stderr",
     "output_type": "stream",
     "text": [
      "2025-10-20 21:02:28,623 INFO Request ID is a9f85b90-06ad-4235-b0aa-b48c762fabb2\n",
      "2025-10-20 21:02:28,691 INFO status has been updated to accepted\n",
      "2025-10-20 21:02:42,214 INFO status has been updated to running\n",
      "2025-10-20 21:03:18,710 INFO status has been updated to successful\n"
     ]
    },
    {
     "data": {
      "application/vnd.jupyter.widget-view+json": {
       "model_id": "",
       "version_major": 2,
       "version_minor": 0
      },
      "text/plain": [
       "7f3586f154113174e2212b216f1edd78.nc:   0%|          | 0.00/901k [00:00<?, ?B/s]"
      ]
     },
     "metadata": {},
     "output_type": "display_data"
    },
    {
     "name": "stdout",
     "output_type": "stream",
     "text": [
      "[process] era5_t2m_hourly_tjk_2020_06.nc -> daily Tmin & FD part\n",
      "[download] ERA5 hourly t2m 2020-07\n"
     ]
    },
    {
     "name": "stderr",
     "output_type": "stream",
     "text": [
      "2025-10-20 21:03:19,913 INFO Request ID is 1f6306f4-ea25-4214-b1b6-c5eab61b87c6\n",
      "2025-10-20 21:03:19,965 INFO status has been updated to accepted\n",
      "2025-10-20 21:03:33,472 INFO status has been updated to running\n",
      "2025-10-20 21:04:35,718 INFO status has been updated to successful\n"
     ]
    },
    {
     "data": {
      "application/vnd.jupyter.widget-view+json": {
       "model_id": "",
       "version_major": 2,
       "version_minor": 0
      },
      "text/plain": [
       "bd509309cdb32de7254e8270470c0a7b.nc:   0%|          | 0.00/926k [00:00<?, ?B/s]"
      ]
     },
     "metadata": {},
     "output_type": "display_data"
    },
    {
     "name": "stdout",
     "output_type": "stream",
     "text": [
      "[process] era5_t2m_hourly_tjk_2020_07.nc -> daily Tmin & FD part\n",
      "[download] ERA5 hourly t2m 2020-08\n"
     ]
    },
    {
     "name": "stderr",
     "output_type": "stream",
     "text": [
      "2025-10-20 21:04:36,871 INFO Request ID is 320c1ed3-a23e-4384-8e67-2fbfea5349fc\n",
      "2025-10-20 21:04:36,970 INFO status has been updated to accepted\n",
      "2025-10-20 21:04:45,400 INFO status has been updated to running\n",
      "2025-10-20 21:05:52,840 INFO status has been updated to successful\n"
     ]
    },
    {
     "data": {
      "application/vnd.jupyter.widget-view+json": {
       "model_id": "",
       "version_major": 2,
       "version_minor": 0
      },
      "text/plain": [
       "bec326b4e71fa7f483dc7b52c0353987.nc:   0%|          | 0.00/931k [00:00<?, ?B/s]"
      ]
     },
     "metadata": {},
     "output_type": "display_data"
    },
    {
     "name": "stdout",
     "output_type": "stream",
     "text": [
      "[process] era5_t2m_hourly_tjk_2020_08.nc -> daily Tmin & FD part\n",
      "[download] ERA5 hourly t2m 2020-09\n"
     ]
    },
    {
     "name": "stderr",
     "output_type": "stream",
     "text": [
      "2025-10-20 21:05:53,996 INFO Request ID is 78c34fae-f571-4a0a-9704-c422be7e4ec2\n",
      "2025-10-20 21:05:54,182 INFO status has been updated to accepted\n",
      "2025-10-20 21:06:02,928 INFO status has been updated to running\n",
      "2025-10-20 21:07:10,198 INFO status has been updated to successful\n"
     ]
    },
    {
     "data": {
      "application/vnd.jupyter.widget-view+json": {
       "model_id": "",
       "version_major": 2,
       "version_minor": 0
      },
      "text/plain": [
       "ea487e13789614b5379fbd5eabfb452c.nc:   0%|          | 0.00/907k [00:00<?, ?B/s]"
      ]
     },
     "metadata": {},
     "output_type": "display_data"
    },
    {
     "name": "stdout",
     "output_type": "stream",
     "text": [
      "[process] era5_t2m_hourly_tjk_2020_09.nc -> daily Tmin & FD part\n",
      "[download] ERA5 hourly t2m 2020-10\n"
     ]
    },
    {
     "name": "stderr",
     "output_type": "stream",
     "text": [
      "2025-10-20 21:07:11,296 INFO Request ID is 9b5d7954-630c-41fe-88df-858cab629f06\n",
      "2025-10-20 21:07:11,638 INFO status has been updated to accepted\n",
      "2025-10-20 21:07:20,057 INFO status has been updated to running\n",
      "2025-10-20 21:08:27,581 INFO status has been updated to successful\n"
     ]
    },
    {
     "data": {
      "application/vnd.jupyter.widget-view+json": {
       "model_id": "",
       "version_major": 2,
       "version_minor": 0
      },
      "text/plain": [
       "b8a5cbf2e79651f9028942ba73bf73b1.nc:   0%|          | 0.00/988k [00:00<?, ?B/s]"
      ]
     },
     "metadata": {},
     "output_type": "display_data"
    },
    {
     "name": "stdout",
     "output_type": "stream",
     "text": [
      "[process] era5_t2m_hourly_tjk_2020_10.nc -> daily Tmin & FD part\n",
      "[download] ERA5 hourly t2m 2020-11\n"
     ]
    },
    {
     "name": "stderr",
     "output_type": "stream",
     "text": [
      "2025-10-20 21:08:28,605 INFO Request ID is c7fe331a-9648-4b60-a2f8-5e93f77c75b5\n",
      "2025-10-20 21:08:28,715 INFO status has been updated to accepted\n",
      "2025-10-20 21:08:37,544 INFO status has been updated to running\n",
      "2025-10-20 21:09:19,094 INFO status has been updated to successful\n"
     ]
    },
    {
     "data": {
      "application/vnd.jupyter.widget-view+json": {
       "model_id": "",
       "version_major": 2,
       "version_minor": 0
      },
      "text/plain": [
       "c1c81bcf4c46dc32784a45c09f90e52d.nc:   0%|          | 0.00/982k [00:00<?, ?B/s]"
      ]
     },
     "metadata": {},
     "output_type": "display_data"
    },
    {
     "name": "stdout",
     "output_type": "stream",
     "text": [
      "[process] era5_t2m_hourly_tjk_2020_11.nc -> daily Tmin & FD part\n",
      "[download] ERA5 hourly t2m 2020-12\n"
     ]
    },
    {
     "name": "stderr",
     "output_type": "stream",
     "text": [
      "2025-10-20 21:09:20,144 INFO Request ID is 814248da-afe5-4715-841c-0acd8fa8abb3\n",
      "2025-10-20 21:09:20,194 INFO status has been updated to accepted\n",
      "2025-10-20 21:09:33,790 INFO status has been updated to running\n",
      "2025-10-20 21:10:10,186 INFO status has been updated to successful\n"
     ]
    },
    {
     "data": {
      "application/vnd.jupyter.widget-view+json": {
       "model_id": "",
       "version_major": 2,
       "version_minor": 0
      },
      "text/plain": [
       "9fa9c900f37667e7eada42e5d3acf115.nc:   0%|          | 0.00/1.00M [00:00<?, ?B/s]"
      ]
     },
     "metadata": {},
     "output_type": "display_data"
    },
    {
     "name": "stdout",
     "output_type": "stream",
     "text": [
      "[process] era5_t2m_hourly_tjk_2020_12.nc -> daily Tmin & FD part\n",
      "[year 2020] TNn range: -42.4..-4.7 °C | FD range: 22..366 days\n",
      "\n",
      "=== YEAR 2021 ===\n",
      "[download] ERA5 hourly t2m 2021-01\n"
     ]
    },
    {
     "name": "stderr",
     "output_type": "stream",
     "text": [
      "2025-10-20 21:10:12,159 INFO Request ID is 025dd937-1523-4291-abe0-2d1fa6187907\n",
      "2025-10-20 21:10:12,224 INFO status has been updated to accepted\n",
      "2025-10-20 21:10:20,623 INFO status has been updated to running\n",
      "2025-10-20 21:11:27,872 INFO status has been updated to successful\n"
     ]
    },
    {
     "data": {
      "application/vnd.jupyter.widget-view+json": {
       "model_id": "",
       "version_major": 2,
       "version_minor": 0
      },
      "text/plain": [
       "37f77f7990887c6a149dff1eee6a6778.nc:   0%|          | 0.00/1.00M [00:00<?, ?B/s]"
      ]
     },
     "metadata": {},
     "output_type": "display_data"
    },
    {
     "name": "stdout",
     "output_type": "stream",
     "text": [
      "[process] era5_t2m_hourly_tjk_2021_01.nc -> daily Tmin & FD part\n",
      "[download] ERA5 hourly t2m 2021-02\n"
     ]
    },
    {
     "name": "stderr",
     "output_type": "stream",
     "text": [
      "2025-10-20 21:11:29,168 INFO Request ID is c10ead75-1150-4d89-a014-2d24d23ce195\n",
      "2025-10-20 21:11:29,238 INFO status has been updated to accepted\n",
      "2025-10-20 21:11:42,812 INFO status has been updated to running\n",
      "2025-10-20 21:12:44,865 INFO status has been updated to successful\n"
     ]
    },
    {
     "data": {
      "application/vnd.jupyter.widget-view+json": {
       "model_id": "",
       "version_major": 2,
       "version_minor": 0
      },
      "text/plain": [
       "62aa4b5a9ee4ad25b53d6301d4064cb4.nc:   0%|          | 0.00/917k [00:00<?, ?B/s]"
      ]
     },
     "metadata": {},
     "output_type": "display_data"
    },
    {
     "name": "stdout",
     "output_type": "stream",
     "text": [
      "[process] era5_t2m_hourly_tjk_2021_02.nc -> daily Tmin & FD part\n",
      "[download] ERA5 hourly t2m 2021-03\n"
     ]
    },
    {
     "name": "stderr",
     "output_type": "stream",
     "text": [
      "2025-10-20 21:12:46,005 INFO Request ID is c1fcf83c-e476-4c18-b74b-66037c928c74\n",
      "2025-10-20 21:12:46,108 INFO status has been updated to accepted\n",
      "2025-10-20 21:12:51,106 INFO status has been updated to running\n",
      "2025-10-20 21:13:36,088 INFO status has been updated to successful\n"
     ]
    },
    {
     "data": {
      "application/vnd.jupyter.widget-view+json": {
       "model_id": "",
       "version_major": 2,
       "version_minor": 0
      },
      "text/plain": [
       "3d3c9493ae67e2010b2b66be547d20d6.nc:   0%|          | 0.00/988k [00:00<?, ?B/s]"
      ]
     },
     "metadata": {},
     "output_type": "display_data"
    },
    {
     "name": "stdout",
     "output_type": "stream",
     "text": [
      "[process] era5_t2m_hourly_tjk_2021_03.nc -> daily Tmin & FD part\n",
      "[download] ERA5 hourly t2m 2021-04\n"
     ]
    },
    {
     "name": "stderr",
     "output_type": "stream",
     "text": [
      "2025-10-20 21:13:37,101 INFO Request ID is 8489e9f2-ae79-4044-a778-9bd77acacb00\n",
      "2025-10-20 21:13:37,152 INFO status has been updated to accepted\n",
      "2025-10-20 21:13:42,118 INFO status has been updated to running\n",
      "2025-10-20 21:14:27,069 INFO status has been updated to successful\n"
     ]
    },
    {
     "data": {
      "application/vnd.jupyter.widget-view+json": {
       "model_id": "",
       "version_major": 2,
       "version_minor": 0
      },
      "text/plain": [
       "c284acbea95786a7774ea4c80bb66fd2.nc:   0%|          | 0.00/944k [00:00<?, ?B/s]"
      ]
     },
     "metadata": {},
     "output_type": "display_data"
    },
    {
     "name": "stdout",
     "output_type": "stream",
     "text": [
      "[process] era5_t2m_hourly_tjk_2021_04.nc -> daily Tmin & FD part\n",
      "[download] ERA5 hourly t2m 2021-05\n"
     ]
    },
    {
     "name": "stderr",
     "output_type": "stream",
     "text": [
      "2025-10-20 21:14:28,337 INFO Request ID is d1ded812-941d-43f1-9af7-7a6d81fa15fb\n",
      "2025-10-20 21:14:28,406 INFO status has been updated to accepted\n",
      "2025-10-20 21:14:42,047 INFO status has been updated to running\n",
      "2025-10-20 21:15:44,157 INFO status has been updated to successful\n"
     ]
    },
    {
     "data": {
      "application/vnd.jupyter.widget-view+json": {
       "model_id": "",
       "version_major": 2,
       "version_minor": 0
      },
      "text/plain": [
       "a6258918d9e3c33b41583b8ebbbc77ea.nc:   0%|          | 0.00/931k [00:00<?, ?B/s]"
      ]
     },
     "metadata": {},
     "output_type": "display_data"
    },
    {
     "name": "stdout",
     "output_type": "stream",
     "text": [
      "[process] era5_t2m_hourly_tjk_2021_05.nc -> daily Tmin & FD part\n",
      "[download] ERA5 hourly t2m 2021-06\n"
     ]
    },
    {
     "name": "stderr",
     "output_type": "stream",
     "text": [
      "2025-10-20 21:15:45,444 INFO Request ID is 95e6fd37-5745-4ebf-a173-bc6995d40b0b\n",
      "2025-10-20 21:15:45,623 INFO status has been updated to accepted\n",
      "2025-10-20 21:15:59,469 INFO status has been updated to running\n",
      "2025-10-20 21:17:01,565 INFO status has been updated to successful\n"
     ]
    },
    {
     "data": {
      "application/vnd.jupyter.widget-view+json": {
       "model_id": "",
       "version_major": 2,
       "version_minor": 0
      },
      "text/plain": [
       "6fb92ea848fbd703c6b64c17f072f184.nc:   0%|          | 0.00/901k [00:00<?, ?B/s]"
      ]
     },
     "metadata": {},
     "output_type": "display_data"
    },
    {
     "name": "stdout",
     "output_type": "stream",
     "text": [
      "[process] era5_t2m_hourly_tjk_2021_06.nc -> daily Tmin & FD part\n",
      "[download] ERA5 hourly t2m 2021-07\n"
     ]
    },
    {
     "name": "stderr",
     "output_type": "stream",
     "text": [
      "2025-10-20 21:17:03,258 INFO Request ID is 735366e7-18e5-428c-8226-93adac224722\n",
      "2025-10-20 21:17:03,375 INFO status has been updated to accepted\n",
      "2025-10-20 21:17:12,395 INFO status has been updated to running\n",
      "2025-10-20 21:18:19,686 INFO status has been updated to successful\n"
     ]
    },
    {
     "data": {
      "application/vnd.jupyter.widget-view+json": {
       "model_id": "",
       "version_major": 2,
       "version_minor": 0
      },
      "text/plain": [
       "dca48bcbb9543c8ab0aa7eacf92857d5.nc:   0%|          | 0.00/929k [00:00<?, ?B/s]"
      ]
     },
     "metadata": {},
     "output_type": "display_data"
    },
    {
     "name": "stdout",
     "output_type": "stream",
     "text": [
      "[process] era5_t2m_hourly_tjk_2021_07.nc -> daily Tmin & FD part\n",
      "[download] ERA5 hourly t2m 2021-08\n"
     ]
    },
    {
     "name": "stderr",
     "output_type": "stream",
     "text": [
      "2025-10-20 21:18:20,893 INFO Request ID is 5cf71057-4010-4a16-a74c-4169e379d66e\n",
      "2025-10-20 21:18:20,946 INFO status has been updated to accepted\n",
      "2025-10-20 21:18:29,540 INFO status has been updated to running\n",
      "2025-10-20 21:19:11,088 INFO status has been updated to successful\n"
     ]
    },
    {
     "data": {
      "application/vnd.jupyter.widget-view+json": {
       "model_id": "",
       "version_major": 2,
       "version_minor": 0
      },
      "text/plain": [
       "1bca504e7920b99b41e36bfc9cadb4a1.nc:   0%|          | 0.00/927k [00:00<?, ?B/s]"
      ]
     },
     "metadata": {},
     "output_type": "display_data"
    },
    {
     "name": "stdout",
     "output_type": "stream",
     "text": [
      "[process] era5_t2m_hourly_tjk_2021_08.nc -> daily Tmin & FD part\n",
      "[download] ERA5 hourly t2m 2021-09\n"
     ]
    },
    {
     "name": "stderr",
     "output_type": "stream",
     "text": [
      "2025-10-20 21:19:12,054 INFO Request ID is 36927411-449e-47c7-8d28-f1d1eba6010b\n",
      "2025-10-20 21:19:12,117 INFO status has been updated to accepted\n",
      "2025-10-20 21:19:20,654 INFO status has been updated to running\n",
      "2025-10-20 21:20:02,395 INFO status has been updated to successful\n"
     ]
    },
    {
     "data": {
      "application/vnd.jupyter.widget-view+json": {
       "model_id": "",
       "version_major": 2,
       "version_minor": 0
      },
      "text/plain": [
       "7db9bc9105f3b917a6f447321879b9a3.nc:   0%|          | 0.00/912k [00:00<?, ?B/s]"
      ]
     },
     "metadata": {},
     "output_type": "display_data"
    },
    {
     "name": "stdout",
     "output_type": "stream",
     "text": [
      "[process] era5_t2m_hourly_tjk_2021_09.nc -> daily Tmin & FD part\n",
      "[download] ERA5 hourly t2m 2021-10\n"
     ]
    },
    {
     "name": "stderr",
     "output_type": "stream",
     "text": [
      "2025-10-20 21:20:03,426 INFO Request ID is fd028877-3fe1-4640-bb1a-c7f517d94919\n",
      "2025-10-20 21:20:03,486 INFO status has been updated to accepted\n",
      "2025-10-20 21:20:11,950 INFO status has been updated to running\n",
      "2025-10-20 21:20:53,440 INFO status has been updated to successful\n"
     ]
    },
    {
     "data": {
      "application/vnd.jupyter.widget-view+json": {
       "model_id": "",
       "version_major": 2,
       "version_minor": 0
      },
      "text/plain": [
       "89db4990cc5c25ca21adab9889b29254.nc:   0%|          | 0.00/984k [00:00<?, ?B/s]"
      ]
     },
     "metadata": {},
     "output_type": "display_data"
    },
    {
     "name": "stdout",
     "output_type": "stream",
     "text": [
      "[process] era5_t2m_hourly_tjk_2021_10.nc -> daily Tmin & FD part\n",
      "[download] ERA5 hourly t2m 2021-11\n"
     ]
    },
    {
     "name": "stderr",
     "output_type": "stream",
     "text": [
      "2025-10-20 21:20:54,884 INFO Request ID is 40626591-3987-41d7-919a-0bf985f98b3e\n",
      "2025-10-20 21:20:54,985 INFO status has been updated to accepted\n",
      "2025-10-20 21:21:03,370 INFO status has been updated to running\n",
      "2025-10-20 21:22:10,642 INFO status has been updated to successful\n"
     ]
    },
    {
     "data": {
      "application/vnd.jupyter.widget-view+json": {
       "model_id": "",
       "version_major": 2,
       "version_minor": 0
      },
      "text/plain": [
       "602c541901cc37681322e6857ec54b11.nc:   0%|          | 0.00/984k [00:00<?, ?B/s]"
      ]
     },
     "metadata": {},
     "output_type": "display_data"
    },
    {
     "name": "stdout",
     "output_type": "stream",
     "text": [
      "[process] era5_t2m_hourly_tjk_2021_11.nc -> daily Tmin & FD part\n",
      "[download] ERA5 hourly t2m 2021-12\n"
     ]
    },
    {
     "name": "stderr",
     "output_type": "stream",
     "text": [
      "2025-10-20 21:22:11,819 INFO Request ID is 506824cb-523f-4317-adf8-8a2fb33841dd\n",
      "2025-10-20 21:22:11,913 INFO status has been updated to accepted\n",
      "2025-10-20 21:22:20,439 INFO status has been updated to successful\n"
     ]
    },
    {
     "data": {
      "application/vnd.jupyter.widget-view+json": {
       "model_id": "",
       "version_major": 2,
       "version_minor": 0
      },
      "text/plain": [
       "354db96df17aba2e70ccef9b8d5c7b34.nc:   0%|          | 0.00/0.99M [00:00<?, ?B/s]"
      ]
     },
     "metadata": {},
     "output_type": "display_data"
    },
    {
     "name": "stdout",
     "output_type": "stream",
     "text": [
      "[process] era5_t2m_hourly_tjk_2021_12.nc -> daily Tmin & FD part\n",
      "[year 2021] TNn range: -44.1..-5.2 °C | FD range: 26..363 days\n",
      "\n",
      "=== YEAR 2022 ===\n",
      "[download] ERA5 hourly t2m 2022-01\n"
     ]
    },
    {
     "name": "stderr",
     "output_type": "stream",
     "text": [
      "2025-10-20 21:22:22,088 INFO Request ID is a9f53f11-67f9-47a7-b805-3a6a31616a77\n",
      "2025-10-20 21:22:22,139 INFO status has been updated to accepted\n",
      "2025-10-20 21:22:30,550 INFO status has been updated to successful\n"
     ]
    },
    {
     "data": {
      "application/vnd.jupyter.widget-view+json": {
       "model_id": "",
       "version_major": 2,
       "version_minor": 0
      },
      "text/plain": [
       "93fbf089cb7243f1409ea3fbdd22195a.nc: 0.00B [00:00, ?B/s]"
      ]
     },
     "metadata": {},
     "output_type": "display_data"
    },
    {
     "name": "stdout",
     "output_type": "stream",
     "text": [
      "[process] era5_t2m_hourly_tjk_2022_01.nc -> daily Tmin & FD part\n",
      "[download] ERA5 hourly t2m 2022-02\n"
     ]
    },
    {
     "name": "stderr",
     "output_type": "stream",
     "text": [
      "2025-10-20 21:23:16,593 INFO Request ID is 6aeaaf0e-c507-4fd9-8f10-a17626aba448\n",
      "2025-10-20 21:23:16,666 INFO status has been updated to accepted\n",
      "2025-10-20 21:23:25,176 INFO status has been updated to running\n",
      "2025-10-20 21:23:30,576 INFO status has been updated to successful\n"
     ]
    },
    {
     "data": {
      "application/vnd.jupyter.widget-view+json": {
       "model_id": "",
       "version_major": 2,
       "version_minor": 0
      },
      "text/plain": [
       "3772cca37f37d37361a5d972778e5692.nc:   0%|          | 0.00/913k [00:00<?, ?B/s]"
      ]
     },
     "metadata": {},
     "output_type": "display_data"
    },
    {
     "name": "stdout",
     "output_type": "stream",
     "text": [
      "[process] era5_t2m_hourly_tjk_2022_02.nc -> daily Tmin & FD part\n",
      "[download] ERA5 hourly t2m 2022-03\n"
     ]
    },
    {
     "name": "stderr",
     "output_type": "stream",
     "text": [
      "2025-10-20 21:23:32,022 INFO Request ID is 8a4c9ded-f441-4f4c-a6c3-c4cbeb92d6e3\n",
      "2025-10-20 21:23:32,088 INFO status has been updated to accepted\n",
      "2025-10-20 21:23:40,470 INFO status has been updated to running\n",
      "2025-10-20 21:24:47,683 INFO status has been updated to successful\n"
     ]
    },
    {
     "data": {
      "application/vnd.jupyter.widget-view+json": {
       "model_id": "",
       "version_major": 2,
       "version_minor": 0
      },
      "text/plain": [
       "8fd01f33ca57e8b4c7f237e4aad1a468.nc:   0%|          | 0.00/984k [00:00<?, ?B/s]"
      ]
     },
     "metadata": {},
     "output_type": "display_data"
    },
    {
     "name": "stdout",
     "output_type": "stream",
     "text": [
      "[process] era5_t2m_hourly_tjk_2022_03.nc -> daily Tmin & FD part\n",
      "[download] ERA5 hourly t2m 2022-04\n"
     ]
    },
    {
     "name": "stderr",
     "output_type": "stream",
     "text": [
      "2025-10-20 21:24:48,776 INFO Request ID is 6f720d36-f16d-4baf-94be-ef53733c52a3\n",
      "2025-10-20 21:24:48,849 INFO status has been updated to accepted\n",
      "2025-10-20 21:24:57,271 INFO status has been updated to running\n",
      "2025-10-20 21:26:04,530 INFO status has been updated to successful\n"
     ]
    },
    {
     "data": {
      "application/vnd.jupyter.widget-view+json": {
       "model_id": "",
       "version_major": 2,
       "version_minor": 0
      },
      "text/plain": [
       "7d05c855f0eff3e857c29045b5c1b47a.nc:   0%|          | 0.00/932k [00:00<?, ?B/s]"
      ]
     },
     "metadata": {},
     "output_type": "display_data"
    },
    {
     "name": "stdout",
     "output_type": "stream",
     "text": [
      "[process] era5_t2m_hourly_tjk_2022_04.nc -> daily Tmin & FD part\n",
      "[download] ERA5 hourly t2m 2022-05\n"
     ]
    },
    {
     "name": "stderr",
     "output_type": "stream",
     "text": [
      "2025-10-20 21:26:05,660 INFO Request ID is f19ab625-6fa1-4936-b456-a9fa2c2983e2\n",
      "2025-10-20 21:26:05,731 INFO status has been updated to accepted\n",
      "2025-10-20 21:26:14,137 INFO status has been updated to running\n",
      "2025-10-20 21:27:21,585 INFO status has been updated to successful\n"
     ]
    },
    {
     "data": {
      "application/vnd.jupyter.widget-view+json": {
       "model_id": "",
       "version_major": 2,
       "version_minor": 0
      },
      "text/plain": [
       "77a26f89f0638d186c0f0afaefd7b0.nc:   0%|          | 0.00/931k [00:00<?, ?B/s]"
      ]
     },
     "metadata": {},
     "output_type": "display_data"
    },
    {
     "name": "stdout",
     "output_type": "stream",
     "text": [
      "[process] era5_t2m_hourly_tjk_2022_05.nc -> daily Tmin & FD part\n",
      "[download] ERA5 hourly t2m 2022-06\n"
     ]
    },
    {
     "name": "stderr",
     "output_type": "stream",
     "text": [
      "2025-10-20 21:27:22,827 INFO Request ID is a4dcc345-12a3-41fd-b11a-b6174b378f67\n",
      "2025-10-20 21:27:22,927 INFO status has been updated to accepted\n",
      "2025-10-20 21:27:44,376 INFO status has been updated to running\n",
      "2025-10-20 21:28:38,816 INFO status has been updated to successful\n"
     ]
    },
    {
     "data": {
      "application/vnd.jupyter.widget-view+json": {
       "model_id": "",
       "version_major": 2,
       "version_minor": 0
      },
      "text/plain": [
       "5b7849215d30d9b8979093db4a59575f.nc:   0%|          | 0.00/899k [00:00<?, ?B/s]"
      ]
     },
     "metadata": {},
     "output_type": "display_data"
    },
    {
     "name": "stdout",
     "output_type": "stream",
     "text": [
      "[process] era5_t2m_hourly_tjk_2022_06.nc -> daily Tmin & FD part\n",
      "[download] ERA5 hourly t2m 2022-07\n"
     ]
    },
    {
     "name": "stderr",
     "output_type": "stream",
     "text": [
      "2025-10-20 21:28:39,950 INFO Request ID is 7d354d19-4775-40be-9d8a-292f2a301caa\n",
      "2025-10-20 21:28:40,122 INFO status has been updated to accepted\n",
      "2025-10-20 21:28:48,550 INFO status has been updated to running\n",
      "2025-10-20 21:29:55,801 INFO status has been updated to successful\n"
     ]
    },
    {
     "data": {
      "application/vnd.jupyter.widget-view+json": {
       "model_id": "",
       "version_major": 2,
       "version_minor": 0
      },
      "text/plain": [
       "42c5a047d245a5ed285815db041c02c6.nc:   0%|          | 0.00/932k [00:00<?, ?B/s]"
      ]
     },
     "metadata": {},
     "output_type": "display_data"
    },
    {
     "name": "stdout",
     "output_type": "stream",
     "text": [
      "[process] era5_t2m_hourly_tjk_2022_07.nc -> daily Tmin & FD part\n",
      "[download] ERA5 hourly t2m 2022-08\n"
     ]
    },
    {
     "name": "stderr",
     "output_type": "stream",
     "text": [
      "2025-10-20 21:29:56,911 INFO Request ID is 4413eb32-6e4d-4df7-af56-c6498d8077be\n",
      "2025-10-20 21:29:56,987 INFO status has been updated to accepted\n",
      "2025-10-20 21:30:10,622 INFO status has been updated to running\n",
      "2025-10-20 21:30:46,954 INFO status has been updated to successful\n"
     ]
    },
    {
     "data": {
      "application/vnd.jupyter.widget-view+json": {
       "model_id": "",
       "version_major": 2,
       "version_minor": 0
      },
      "text/plain": [
       "13c18c94ce19f212efd02d4afb4b794a.nc:   0%|          | 0.00/938k [00:00<?, ?B/s]"
      ]
     },
     "metadata": {},
     "output_type": "display_data"
    },
    {
     "name": "stdout",
     "output_type": "stream",
     "text": [
      "[process] era5_t2m_hourly_tjk_2022_08.nc -> daily Tmin & FD part\n",
      "[download] ERA5 hourly t2m 2022-09\n"
     ]
    },
    {
     "name": "stderr",
     "output_type": "stream",
     "text": [
      "2025-10-20 21:30:48,076 INFO Request ID is db910689-bf5c-4287-9fb2-56c3f2bb2ce5\n",
      "2025-10-20 21:30:48,257 INFO status has been updated to accepted\n",
      "2025-10-20 21:30:56,650 INFO status has been updated to running\n",
      "2025-10-20 21:32:03,911 INFO status has been updated to successful\n"
     ]
    },
    {
     "data": {
      "application/vnd.jupyter.widget-view+json": {
       "model_id": "",
       "version_major": 2,
       "version_minor": 0
      },
      "text/plain": [
       "b759f05328daffffba89c88d4703b628.nc:   0%|          | 0.00/905k [00:00<?, ?B/s]"
      ]
     },
     "metadata": {},
     "output_type": "display_data"
    },
    {
     "name": "stdout",
     "output_type": "stream",
     "text": [
      "[process] era5_t2m_hourly_tjk_2022_09.nc -> daily Tmin & FD part\n",
      "[download] ERA5 hourly t2m 2022-10\n"
     ]
    },
    {
     "name": "stderr",
     "output_type": "stream",
     "text": [
      "2025-10-20 21:32:05,091 INFO Request ID is 47991d00-6d11-474a-b431-b34fba98458d\n",
      "2025-10-20 21:32:05,161 INFO status has been updated to accepted\n",
      "2025-10-20 21:32:13,766 INFO status has been updated to running\n",
      "2025-10-20 21:33:21,049 INFO status has been updated to successful\n"
     ]
    },
    {
     "data": {
      "application/vnd.jupyter.widget-view+json": {
       "model_id": "",
       "version_major": 2,
       "version_minor": 0
      },
      "text/plain": [
       "8168ba82dd4bb39e2a1a36e37136aa91.nc:   0%|          | 0.00/983k [00:00<?, ?B/s]"
      ]
     },
     "metadata": {},
     "output_type": "display_data"
    },
    {
     "name": "stdout",
     "output_type": "stream",
     "text": [
      "[process] era5_t2m_hourly_tjk_2022_10.nc -> daily Tmin & FD part\n",
      "[download] ERA5 hourly t2m 2022-11\n"
     ]
    },
    {
     "name": "stderr",
     "output_type": "stream",
     "text": [
      "2025-10-20 21:33:22,151 INFO Request ID is 231b7e35-1d0d-4287-9163-200312e6700d\n",
      "2025-10-20 21:33:22,222 INFO status has been updated to accepted\n",
      "2025-10-20 21:33:30,804 INFO status has been updated to running\n",
      "2025-10-20 21:34:38,126 INFO status has been updated to successful\n"
     ]
    },
    {
     "data": {
      "application/vnd.jupyter.widget-view+json": {
       "model_id": "",
       "version_major": 2,
       "version_minor": 0
      },
      "text/plain": [
       "75c2217bc388578d7eeaf700250de676.nc:   0%|          | 0.00/970k [00:00<?, ?B/s]"
      ]
     },
     "metadata": {},
     "output_type": "display_data"
    },
    {
     "name": "stdout",
     "output_type": "stream",
     "text": [
      "[process] era5_t2m_hourly_tjk_2022_11.nc -> daily Tmin & FD part\n",
      "[download] ERA5 hourly t2m 2022-12\n"
     ]
    },
    {
     "name": "stderr",
     "output_type": "stream",
     "text": [
      "2025-10-20 21:34:39,347 INFO Request ID is 33caaa6c-d70e-4fe9-9542-bcdd65e38cd3\n",
      "2025-10-20 21:34:39,414 INFO status has been updated to accepted\n",
      "2025-10-20 21:34:47,865 INFO status has been updated to successful\n"
     ]
    },
    {
     "data": {
      "application/vnd.jupyter.widget-view+json": {
       "model_id": "",
       "version_major": 2,
       "version_minor": 0
      },
      "text/plain": [
       "5a6f9263c6471f5f1346d383ce4f06d7.nc:   0%|          | 0.00/0.99M [00:00<?, ?B/s]"
      ]
     },
     "metadata": {},
     "output_type": "display_data"
    },
    {
     "name": "stdout",
     "output_type": "stream",
     "text": [
      "[process] era5_t2m_hourly_tjk_2022_12.nc -> daily Tmin & FD part\n",
      "[year 2022] TNn range: -42.4..-0.3 °C | FD range: 2..364 days\n",
      "\n",
      "=== YEAR 2023 ===\n",
      "[download] ERA5 hourly t2m 2023-01\n"
     ]
    },
    {
     "name": "stderr",
     "output_type": "stream",
     "text": [
      "2025-10-20 21:34:49,826 INFO Request ID is 2d814d83-2e33-4e6f-bfbc-99a6661260e7\n",
      "2025-10-20 21:34:49,879 INFO status has been updated to accepted\n",
      "2025-10-20 21:34:58,317 INFO status has been updated to successful\n"
     ]
    },
    {
     "data": {
      "application/vnd.jupyter.widget-view+json": {
       "model_id": "",
       "version_major": 2,
       "version_minor": 0
      },
      "text/plain": [
       "3828cad31e0ca74978bdb642f2390ba1.nc:   0%|          | 0.00/1.00M [00:00<?, ?B/s]"
      ]
     },
     "metadata": {},
     "output_type": "display_data"
    },
    {
     "name": "stdout",
     "output_type": "stream",
     "text": [
      "[process] era5_t2m_hourly_tjk_2023_01.nc -> daily Tmin & FD part\n",
      "[download] ERA5 hourly t2m 2023-02\n"
     ]
    },
    {
     "name": "stderr",
     "output_type": "stream",
     "text": [
      "2025-10-20 21:35:00,108 INFO Request ID is 21b6661b-9c70-4267-acbe-731622ead650\n",
      "2025-10-20 21:35:00,164 INFO status has been updated to accepted\n",
      "2025-10-20 21:35:08,540 INFO status has been updated to running\n",
      "2025-10-20 21:35:21,354 INFO status has been updated to successful\n"
     ]
    },
    {
     "data": {
      "application/vnd.jupyter.widget-view+json": {
       "model_id": "",
       "version_major": 2,
       "version_minor": 0
      },
      "text/plain": [
       "e20462f6ff1c3c98d04539bd5e62172b.nc:   0%|          | 0.00/915k [00:00<?, ?B/s]"
      ]
     },
     "metadata": {},
     "output_type": "display_data"
    },
    {
     "name": "stdout",
     "output_type": "stream",
     "text": [
      "[process] era5_t2m_hourly_tjk_2023_02.nc -> daily Tmin & FD part\n",
      "[download] ERA5 hourly t2m 2023-03\n"
     ]
    },
    {
     "name": "stderr",
     "output_type": "stream",
     "text": [
      "2025-10-20 21:35:22,431 INFO Request ID is 7f46f4b7-b5eb-4b83-905e-9dbaed77a9c3\n",
      "2025-10-20 21:35:22,489 INFO status has been updated to accepted\n",
      "2025-10-20 21:35:36,025 INFO status has been updated to running\n",
      "2025-10-20 21:36:38,191 INFO status has been updated to successful\n"
     ]
    },
    {
     "data": {
      "application/vnd.jupyter.widget-view+json": {
       "model_id": "",
       "version_major": 2,
       "version_minor": 0
      },
      "text/plain": [
       "11a5482e50b133fe2bc74ea99412b2e2.nc:   0%|          | 0.00/982k [00:00<?, ?B/s]"
      ]
     },
     "metadata": {},
     "output_type": "display_data"
    },
    {
     "name": "stdout",
     "output_type": "stream",
     "text": [
      "[process] era5_t2m_hourly_tjk_2023_03.nc -> daily Tmin & FD part\n",
      "[download] ERA5 hourly t2m 2023-04\n"
     ]
    },
    {
     "name": "stderr",
     "output_type": "stream",
     "text": [
      "2025-10-20 21:36:39,350 INFO Request ID is 205280b2-39af-4dea-aad2-bb64986fd31c\n",
      "2025-10-20 21:36:39,507 INFO status has been updated to accepted\n",
      "2025-10-20 21:36:47,907 INFO status has been updated to running\n",
      "2025-10-20 21:37:29,503 INFO status has been updated to successful\n"
     ]
    },
    {
     "data": {
      "application/vnd.jupyter.widget-view+json": {
       "model_id": "",
       "version_major": 2,
       "version_minor": 0
      },
      "text/plain": [
       "dc1e0a2406ab64c377c579a87d4c624a.nc:   0%|          | 0.00/932k [00:00<?, ?B/s]"
      ]
     },
     "metadata": {},
     "output_type": "display_data"
    },
    {
     "name": "stdout",
     "output_type": "stream",
     "text": [
      "[process] era5_t2m_hourly_tjk_2023_04.nc -> daily Tmin & FD part\n",
      "[download] ERA5 hourly t2m 2023-05\n"
     ]
    },
    {
     "name": "stderr",
     "output_type": "stream",
     "text": [
      "2025-10-20 21:37:30,710 INFO Request ID is f6d7be7c-3d1f-4d66-a683-f5f49e9cd679\n",
      "2025-10-20 21:37:30,777 INFO status has been updated to accepted\n",
      "2025-10-20 21:37:44,390 INFO status has been updated to running\n",
      "2025-10-20 21:38:20,780 INFO status has been updated to successful\n"
     ]
    },
    {
     "data": {
      "application/vnd.jupyter.widget-view+json": {
       "model_id": "",
       "version_major": 2,
       "version_minor": 0
      },
      "text/plain": [
       "f67c6f7530854fe4c7248c688dbb4261.nc:   0%|          | 0.00/952k [00:00<?, ?B/s]"
      ]
     },
     "metadata": {},
     "output_type": "display_data"
    },
    {
     "name": "stdout",
     "output_type": "stream",
     "text": [
      "[process] era5_t2m_hourly_tjk_2023_05.nc -> daily Tmin & FD part\n",
      "[download] ERA5 hourly t2m 2023-06\n"
     ]
    },
    {
     "name": "stderr",
     "output_type": "stream",
     "text": [
      "2025-10-20 21:38:21,770 INFO Request ID is 76068439-c005-40c6-99e3-d97015fb9b2a\n",
      "2025-10-20 21:38:21,891 INFO status has been updated to accepted\n",
      "2025-10-20 21:38:30,284 INFO status has been updated to running\n",
      "2025-10-20 21:39:11,854 INFO status has been updated to successful\n"
     ]
    },
    {
     "data": {
      "application/vnd.jupyter.widget-view+json": {
       "model_id": "",
       "version_major": 2,
       "version_minor": 0
      },
      "text/plain": [
       "d0a1590366847a067e998c166b69bc4f.nc:   0%|          | 0.00/901k [00:00<?, ?B/s]"
      ]
     },
     "metadata": {},
     "output_type": "display_data"
    },
    {
     "name": "stdout",
     "output_type": "stream",
     "text": [
      "[process] era5_t2m_hourly_tjk_2023_06.nc -> daily Tmin & FD part\n",
      "[download] ERA5 hourly t2m 2023-07\n"
     ]
    },
    {
     "name": "stderr",
     "output_type": "stream",
     "text": [
      "2025-10-20 21:39:12,857 INFO Request ID is cf6e4ec9-2ac7-4c8c-9cb9-11ecaa827edf\n",
      "2025-10-20 21:39:12,905 INFO status has been updated to accepted\n",
      "2025-10-20 21:39:21,300 INFO status has been updated to running\n",
      "2025-10-20 21:40:28,601 INFO status has been updated to successful\n"
     ]
    },
    {
     "data": {
      "application/vnd.jupyter.widget-view+json": {
       "model_id": "",
       "version_major": 2,
       "version_minor": 0
      },
      "text/plain": [
       "2def5a96db9ba9ffa830a724aeb31cef.nc:   0%|          | 0.00/926k [00:00<?, ?B/s]"
      ]
     },
     "metadata": {},
     "output_type": "display_data"
    },
    {
     "name": "stdout",
     "output_type": "stream",
     "text": [
      "[process] era5_t2m_hourly_tjk_2023_07.nc -> daily Tmin & FD part\n",
      "[download] ERA5 hourly t2m 2023-08\n"
     ]
    },
    {
     "name": "stderr",
     "output_type": "stream",
     "text": [
      "2025-10-20 21:40:29,906 INFO Request ID is 7af6ef75-b4e3-4d66-8bf5-9b32cb813d4f\n",
      "2025-10-20 21:40:30,136 INFO status has been updated to accepted\n",
      "2025-10-20 21:40:38,904 INFO status has been updated to running\n",
      "2025-10-20 21:41:46,164 INFO status has been updated to successful\n"
     ]
    },
    {
     "data": {
      "application/vnd.jupyter.widget-view+json": {
       "model_id": "",
       "version_major": 2,
       "version_minor": 0
      },
      "text/plain": [
       "e7b697dfab8dbc164361a190d7c09ab8.nc:   0%|          | 0.00/934k [00:00<?, ?B/s]"
      ]
     },
     "metadata": {},
     "output_type": "display_data"
    },
    {
     "name": "stdout",
     "output_type": "stream",
     "text": [
      "[process] era5_t2m_hourly_tjk_2023_08.nc -> daily Tmin & FD part\n",
      "[download] ERA5 hourly t2m 2023-09\n"
     ]
    },
    {
     "name": "stderr",
     "output_type": "stream",
     "text": [
      "2025-10-20 21:41:47,619 INFO Request ID is 3ff7e406-20f0-44db-9134-4ae7c1d3ec2e\n",
      "2025-10-20 21:41:47,696 INFO status has been updated to accepted\n",
      "2025-10-20 21:42:01,298 INFO status has been updated to running\n",
      "2025-10-20 21:43:03,414 INFO status has been updated to successful\n"
     ]
    },
    {
     "data": {
      "application/vnd.jupyter.widget-view+json": {
       "model_id": "",
       "version_major": 2,
       "version_minor": 0
      },
      "text/plain": [
       "42d94bb72affb3d2c0f71a8a354c8290.nc:   0%|          | 0.00/910k [00:00<?, ?B/s]"
      ]
     },
     "metadata": {},
     "output_type": "display_data"
    },
    {
     "name": "stdout",
     "output_type": "stream",
     "text": [
      "[process] era5_t2m_hourly_tjk_2023_09.nc -> daily Tmin & FD part\n",
      "[download] ERA5 hourly t2m 2023-10\n"
     ]
    },
    {
     "name": "stderr",
     "output_type": "stream",
     "text": [
      "2025-10-20 21:43:04,746 INFO Request ID is c4fcdd5c-8ea4-491c-b819-0efbd1336012\n",
      "2025-10-20 21:43:04,820 INFO status has been updated to accepted\n",
      "2025-10-20 21:43:13,223 INFO status has been updated to running\n",
      "2025-10-20 21:44:20,449 INFO status has been updated to successful\n"
     ]
    },
    {
     "data": {
      "application/vnd.jupyter.widget-view+json": {
       "model_id": "",
       "version_major": 2,
       "version_minor": 0
      },
      "text/plain": [
       "26b8de8d83efbb22271c0a4d79a7f7e5.nc: 0.00B [00:00, ?B/s]"
      ]
     },
     "metadata": {},
     "output_type": "display_data"
    },
    {
     "name": "stdout",
     "output_type": "stream",
     "text": [
      "[process] era5_t2m_hourly_tjk_2023_10.nc -> daily Tmin & FD part\n",
      "[download] ERA5 hourly t2m 2023-11\n"
     ]
    },
    {
     "name": "stderr",
     "output_type": "stream",
     "text": [
      "2025-10-20 21:45:02,234 INFO Request ID is e97384a9-e4ec-44c8-8b53-24210f762e9f\n",
      "2025-10-20 21:45:02,294 INFO status has been updated to accepted\n",
      "2025-10-20 21:45:16,089 INFO status has been updated to running\n",
      "2025-10-20 21:46:18,571 INFO status has been updated to successful\n"
     ]
    },
    {
     "data": {
      "application/vnd.jupyter.widget-view+json": {
       "model_id": "",
       "version_major": 2,
       "version_minor": 0
      },
      "text/plain": [
       "babd1c0ae3cdf85de44d2044c6ba7720.nc:   0%|          | 0.00/972k [00:00<?, ?B/s]"
      ]
     },
     "metadata": {},
     "output_type": "display_data"
    },
    {
     "name": "stdout",
     "output_type": "stream",
     "text": [
      "[process] era5_t2m_hourly_tjk_2023_11.nc -> daily Tmin & FD part\n",
      "[download] ERA5 hourly t2m 2023-12\n"
     ]
    },
    {
     "name": "stderr",
     "output_type": "stream",
     "text": [
      "2025-10-20 21:46:19,836 INFO Request ID is beb671cc-0f32-4207-a574-836f99df9736\n",
      "2025-10-20 21:46:19,915 INFO status has been updated to accepted\n",
      "2025-10-20 21:46:52,573 INFO status has been updated to successful\n"
     ]
    },
    {
     "data": {
      "application/vnd.jupyter.widget-view+json": {
       "model_id": "",
       "version_major": 2,
       "version_minor": 0
      },
      "text/plain": [
       "f17f2bf79e74931af80d1fa8083aff87.nc:   0%|          | 0.00/0.99M [00:00<?, ?B/s]"
      ]
     },
     "metadata": {},
     "output_type": "display_data"
    },
    {
     "name": "stdout",
     "output_type": "stream",
     "text": [
      "[process] era5_t2m_hourly_tjk_2023_12.nc -> daily Tmin & FD part\n",
      "[year 2023] TNn range: -45.6..-10.3 °C | FD range: 21..363 days\n",
      "\n",
      "=== YEAR 2024 ===\n",
      "[download] ERA5 hourly t2m 2024-01\n"
     ]
    },
    {
     "name": "stderr",
     "output_type": "stream",
     "text": [
      "2025-10-20 21:47:00,698 INFO Request ID is fe19f16f-bee7-4ca9-9f6d-0524cbcd52fc\n",
      "2025-10-20 21:47:00,769 INFO status has been updated to accepted\n",
      "2025-10-20 21:47:14,382 INFO status has been updated to successful\n"
     ]
    },
    {
     "data": {
      "application/vnd.jupyter.widget-view+json": {
       "model_id": "",
       "version_major": 2,
       "version_minor": 0
      },
      "text/plain": [
       "97b2e8857920dcab341df2324c9f5b82.nc:   0%|          | 0.00/0.98M [00:00<?, ?B/s]"
      ]
     },
     "metadata": {},
     "output_type": "display_data"
    },
    {
     "name": "stdout",
     "output_type": "stream",
     "text": [
      "[process] era5_t2m_hourly_tjk_2024_01.nc -> daily Tmin & FD part\n",
      "[download] ERA5 hourly t2m 2024-02\n"
     ]
    },
    {
     "name": "stderr",
     "output_type": "stream",
     "text": [
      "2025-10-20 21:47:15,535 INFO Request ID is a43f616b-b04e-4207-aebf-8aabb30c7973\n",
      "2025-10-20 21:47:15,627 INFO status has been updated to accepted\n",
      "2025-10-20 21:47:36,943 INFO status has been updated to successful\n"
     ]
    },
    {
     "data": {
      "application/vnd.jupyter.widget-view+json": {
       "model_id": "",
       "version_major": 2,
       "version_minor": 0
      },
      "text/plain": [
       "62e3b7ba265c247c81e585af4c8d128.nc:   0%|          | 0.00/949k [00:00<?, ?B/s]"
      ]
     },
     "metadata": {},
     "output_type": "display_data"
    },
    {
     "name": "stdout",
     "output_type": "stream",
     "text": [
      "[process] era5_t2m_hourly_tjk_2024_02.nc -> daily Tmin & FD part\n",
      "[download] ERA5 hourly t2m 2024-03\n"
     ]
    },
    {
     "name": "stderr",
     "output_type": "stream",
     "text": [
      "2025-10-20 21:47:38,002 INFO Request ID is 1ba38f71-9063-4a29-b404-e932c35b81fb\n",
      "2025-10-20 21:47:38,072 INFO status has been updated to accepted\n",
      "2025-10-20 21:47:51,563 INFO status has been updated to running\n",
      "2025-10-20 21:48:53,741 INFO status has been updated to successful\n"
     ]
    },
    {
     "data": {
      "application/vnd.jupyter.widget-view+json": {
       "model_id": "",
       "version_major": 2,
       "version_minor": 0
      },
      "text/plain": [
       "1ba8ae9f4278f181d3f523ae770d23d1.nc:   0%|          | 0.00/992k [00:00<?, ?B/s]"
      ]
     },
     "metadata": {},
     "output_type": "display_data"
    },
    {
     "name": "stdout",
     "output_type": "stream",
     "text": [
      "[process] era5_t2m_hourly_tjk_2024_03.nc -> daily Tmin & FD part\n",
      "[download] ERA5 hourly t2m 2024-04\n"
     ]
    },
    {
     "name": "stderr",
     "output_type": "stream",
     "text": [
      "2025-10-20 21:48:54,814 INFO Request ID is 77961bf9-6323-45a5-bf88-0f1f2494716d\n",
      "2025-10-20 21:48:54,885 INFO status has been updated to accepted\n",
      "2025-10-20 21:49:03,304 INFO status has been updated to running\n",
      "2025-10-20 21:49:08,427 INFO status has been updated to accepted\n",
      "2025-10-20 21:49:16,125 INFO status has been updated to running\n",
      "2025-10-20 21:49:44,776 INFO status has been updated to successful\n"
     ]
    },
    {
     "data": {
      "application/vnd.jupyter.widget-view+json": {
       "model_id": "",
       "version_major": 2,
       "version_minor": 0
      },
      "text/plain": [
       "aeb63844c21fd237d9bcd1ee5196c244.nc:   0%|          | 0.00/927k [00:00<?, ?B/s]"
      ]
     },
     "metadata": {},
     "output_type": "display_data"
    },
    {
     "name": "stdout",
     "output_type": "stream",
     "text": [
      "[process] era5_t2m_hourly_tjk_2024_04.nc -> daily Tmin & FD part\n",
      "[download] ERA5 hourly t2m 2024-05\n"
     ]
    },
    {
     "name": "stderr",
     "output_type": "stream",
     "text": [
      "2025-10-20 21:49:45,985 INFO Request ID is 8beb4194-8323-4d64-94c3-a45698ed0738\n",
      "2025-10-20 21:49:46,036 INFO status has been updated to accepted\n",
      "2025-10-20 21:49:54,413 INFO status has been updated to running\n",
      "2025-10-20 21:49:59,652 INFO status has been updated to accepted\n",
      "2025-10-20 21:50:07,347 INFO status has been updated to running\n",
      "2025-10-20 21:50:36,042 INFO status has been updated to successful\n"
     ]
    },
    {
     "data": {
      "application/vnd.jupyter.widget-view+json": {
       "model_id": "",
       "version_major": 2,
       "version_minor": 0
      },
      "text/plain": [
       "36e61a0224f1683111dad5cb23922d1f.nc:   0%|          | 0.00/938k [00:00<?, ?B/s]"
      ]
     },
     "metadata": {},
     "output_type": "display_data"
    },
    {
     "name": "stdout",
     "output_type": "stream",
     "text": [
      "[process] era5_t2m_hourly_tjk_2024_05.nc -> daily Tmin & FD part\n",
      "[download] ERA5 hourly t2m 2024-06\n"
     ]
    },
    {
     "name": "stderr",
     "output_type": "stream",
     "text": [
      "2025-10-20 21:50:37,433 INFO Request ID is 97abf2d7-b227-4f61-86e4-9a8d9ad4727d\n",
      "2025-10-20 21:50:37,648 INFO status has been updated to accepted\n",
      "2025-10-20 21:50:42,618 INFO status has been updated to running\n",
      "2025-10-20 21:50:46,076 INFO status has been updated to accepted\n",
      "2025-10-20 21:50:59,180 INFO status has been updated to successful\n"
     ]
    },
    {
     "data": {
      "application/vnd.jupyter.widget-view+json": {
       "model_id": "",
       "version_major": 2,
       "version_minor": 0
      },
      "text/plain": [
       "bdcf366544d2e7653f267d7605e852fa.nc:   0%|          | 0.00/901k [00:00<?, ?B/s]"
      ]
     },
     "metadata": {},
     "output_type": "display_data"
    },
    {
     "name": "stdout",
     "output_type": "stream",
     "text": [
      "[process] era5_t2m_hourly_tjk_2024_06.nc -> daily Tmin & FD part\n",
      "[download] ERA5 hourly t2m 2024-07\n"
     ]
    },
    {
     "name": "stderr",
     "output_type": "stream",
     "text": [
      "2025-10-20 21:51:00,227 INFO Request ID is 77eb0b77-6bcf-41ae-87be-712c1ad71c8d\n",
      "2025-10-20 21:51:00,290 INFO status has been updated to accepted\n",
      "2025-10-20 21:51:08,720 INFO status has been updated to running\n",
      "2025-10-20 21:52:15,958 INFO status has been updated to successful\n"
     ]
    },
    {
     "data": {
      "application/vnd.jupyter.widget-view+json": {
       "model_id": "",
       "version_major": 2,
       "version_minor": 0
      },
      "text/plain": [
       "fdbea85da7f48762ce67397b74b018eb.nc:   0%|          | 0.00/926k [00:00<?, ?B/s]"
      ]
     },
     "metadata": {},
     "output_type": "display_data"
    },
    {
     "name": "stdout",
     "output_type": "stream",
     "text": [
      "[process] era5_t2m_hourly_tjk_2024_07.nc -> daily Tmin & FD part\n",
      "[download] ERA5 hourly t2m 2024-08\n"
     ]
    },
    {
     "name": "stderr",
     "output_type": "stream",
     "text": [
      "2025-10-20 21:52:17,040 INFO Request ID is 99b7790c-eeff-4d2a-a699-cea8a90cdc23\n",
      "2025-10-20 21:52:17,114 INFO status has been updated to accepted\n",
      "2025-10-20 21:52:49,905 INFO status has been updated to running\n",
      "2025-10-20 21:53:32,837 INFO status has been updated to successful\n"
     ]
    },
    {
     "data": {
      "application/vnd.jupyter.widget-view+json": {
       "model_id": "",
       "version_major": 2,
       "version_minor": 0
      },
      "text/plain": [
       "a0632bac8ca63c88465f6c31b141bd2c.nc:   0%|          | 0.00/934k [00:00<?, ?B/s]"
      ]
     },
     "metadata": {},
     "output_type": "display_data"
    },
    {
     "name": "stdout",
     "output_type": "stream",
     "text": [
      "[process] era5_t2m_hourly_tjk_2024_08.nc -> daily Tmin & FD part\n",
      "[download] ERA5 hourly t2m 2024-09\n"
     ]
    },
    {
     "name": "stderr",
     "output_type": "stream",
     "text": [
      "2025-10-20 21:53:34,023 INFO Request ID is 29443d22-7332-4ab4-a52b-6cd37b47f86c\n",
      "2025-10-20 21:53:34,100 INFO status has been updated to accepted\n",
      "2025-10-20 21:53:47,655 INFO status has been updated to running\n",
      "2025-10-20 21:54:49,730 INFO status has been updated to successful\n"
     ]
    },
    {
     "data": {
      "application/vnd.jupyter.widget-view+json": {
       "model_id": "",
       "version_major": 2,
       "version_minor": 0
      },
      "text/plain": [
       "474938b4b7e35658c5cc5b8c0f15caf0.nc:   0%|          | 0.00/907k [00:00<?, ?B/s]"
      ]
     },
     "metadata": {},
     "output_type": "display_data"
    },
    {
     "name": "stdout",
     "output_type": "stream",
     "text": [
      "[process] era5_t2m_hourly_tjk_2024_09.nc -> daily Tmin & FD part\n",
      "[download] ERA5 hourly t2m 2024-10\n"
     ]
    },
    {
     "name": "stderr",
     "output_type": "stream",
     "text": [
      "2025-10-20 21:54:51,245 INFO Request ID is 0c3bb06a-a115-4caf-948c-99553ec30a3a\n",
      "2025-10-20 21:54:51,315 INFO status has been updated to accepted\n",
      "2025-10-20 21:55:04,905 INFO status has been updated to running\n",
      "2025-10-20 21:56:07,008 INFO status has been updated to successful\n"
     ]
    },
    {
     "data": {
      "application/vnd.jupyter.widget-view+json": {
       "model_id": "",
       "version_major": 2,
       "version_minor": 0
      },
      "text/plain": [
       "6a06a6a13b9967f035db7e7403ab30b3.nc:   0%|          | 0.00/971k [00:00<?, ?B/s]"
      ]
     },
     "metadata": {},
     "output_type": "display_data"
    },
    {
     "name": "stdout",
     "output_type": "stream",
     "text": [
      "[process] era5_t2m_hourly_tjk_2024_10.nc -> daily Tmin & FD part\n",
      "[download] ERA5 hourly t2m 2024-11\n"
     ]
    },
    {
     "name": "stderr",
     "output_type": "stream",
     "text": [
      "2025-10-20 21:56:08,267 INFO Request ID is 7342624c-8b71-4b77-8f36-f9ec72a5442b\n",
      "2025-10-20 21:56:08,356 INFO status has been updated to accepted\n",
      "2025-10-20 21:56:21,972 INFO status has been updated to running\n",
      "2025-10-20 21:56:58,334 INFO status has been updated to successful\n"
     ]
    },
    {
     "data": {
      "application/vnd.jupyter.widget-view+json": {
       "model_id": "",
       "version_major": 2,
       "version_minor": 0
      },
      "text/plain": [
       "af71dd52439bc162ec8e72e03844306.nc:   0%|          | 0.00/972k [00:00<?, ?B/s]"
      ]
     },
     "metadata": {},
     "output_type": "display_data"
    },
    {
     "name": "stdout",
     "output_type": "stream",
     "text": [
      "[process] era5_t2m_hourly_tjk_2024_11.nc -> daily Tmin & FD part\n",
      "[download] ERA5 hourly t2m 2024-12\n"
     ]
    },
    {
     "name": "stderr",
     "output_type": "stream",
     "text": [
      "2025-10-20 21:56:59,404 INFO Request ID is b9911fe8-e018-4634-9918-f524a9b459a3\n",
      "2025-10-20 21:56:59,478 INFO status has been updated to accepted\n",
      "2025-10-20 21:57:13,060 INFO status has been updated to running\n",
      "2025-10-20 21:57:32,238 INFO status has been updated to accepted\n",
      "2025-10-20 21:57:49,422 INFO status has been updated to running\n",
      "2025-10-20 21:58:15,146 INFO status has been updated to successful\n"
     ]
    },
    {
     "data": {
      "application/vnd.jupyter.widget-view+json": {
       "model_id": "",
       "version_major": 2,
       "version_minor": 0
      },
      "text/plain": [
       "bfdcc6a281f4e2ac3bc1fd00183019b9.nc:   0%|          | 0.00/0.99M [00:00<?, ?B/s]"
      ]
     },
     "metadata": {},
     "output_type": "display_data"
    },
    {
     "name": "stdout",
     "output_type": "stream",
     "text": [
      "[process] era5_t2m_hourly_tjk_2024_12.nc -> daily Tmin & FD part\n",
      "[year 2024] TNn range: -41.1..-3.1 °C | FD range: 16..364 days\n",
      "\n",
      "[aggregate] Multi-annual means (2010–2024)\n",
      "\n",
      "✅ WROTE:\n",
      " - /Users/nassimdekkar/Documents/GitHub/RI-Infra-exposure/data/hazards/cold/TNn_mean_2010_2024.tif\n",
      " - /Users/nassimdekkar/Documents/GitHub/RI-Infra-exposure/data/hazards/cold/FD_mean_2010_2024.tif\n",
      "TNn_mean  (°C)  min/mean/max: (-41.9543571472168, -23.977365493774414, -6.608868598937988)\n",
      "FD_mean   (days) min/mean/max: (22.0, 195.68365478515625, 364.3999938964844)\n"
     ]
    }
   ],
   "source": [
    "# === ERA5 -> Cold hazards (2010–2024) for Tajikistan: ONE-CELL NOTEBOOK ===\n",
    "# Produit:\n",
    "# 1) TNn_mean_2010_2024.tif  (moyenne multi-annuelle du minimum annuel de Tmin, en °C)\n",
    "# 2) FD_mean_2010_2024.tif   (moyenne multi-annuelle de jours de gel/an, Tmin < 0°C)\n",
    "import os, gc\n",
    "from pathlib import Path\n",
    "import numpy as np\n",
    "import xarray as xr\n",
    "import rioxarray  # pour .rio.to_raster & CRS\n",
    "import cdsapi\n",
    "import rasterio\n",
    "\n",
    "# --- Config RAM/threads (plus stable) ---\n",
    "os.environ.setdefault(\"OMP_NUM_THREADS\", \"1\")\n",
    "os.environ.setdefault(\"OPENBLAS_NUM_THREADS\", \"1\")\n",
    "os.environ.setdefault(\"MKL_NUM_THREADS\", \"1\")\n",
    "os.environ.setdefault(\"NUMEXPR_NUM_THREADS\", \"1\")\n",
    "\n",
    "# --- PARAMÈTRES ---\n",
    "YEARS  = list(range(2010, 2025))       # 2010..2024\n",
    "MONTHS = list(range(1, 13))            # Jan..Dec\n",
    "AREA_TJK = [41.1, 67.3, 36.5, 75.2]    # [North, West, South, East] (ordre CDS)\n",
    "ROOT = Path(\".\")\n",
    "OUT_DIR = ROOT / \"../data/hazards/cold\"\n",
    "TMP_DIR = ROOT / \"./_tmp_era5_tjk_cold_allmonths\"\n",
    "OUT_DIR.mkdir(parents=True, exist_ok=True)\n",
    "TMP_DIR.mkdir(parents=True, exist_ok=True)\n",
    "OUT_TNN = OUT_DIR / \"TNn_mean_2010_2024.tif\"\n",
    "OUT_FD  = OUT_DIR / \"FD_mean_2010_2024.tif\"\n",
    "\n",
    "print(\"Output dir:\", OUT_DIR.resolve())\n",
    "print(\"Temp dir  :\", TMP_DIR.resolve())\n",
    "\n",
    "# --- Helpers dans la même cellule ---\n",
    "def cds_client():\n",
    "    # nécessite ~/.cdsapirc\n",
    "    return cdsapi.Client()\n",
    "\n",
    "def download_hourly_month(c, year: int, month: int, out_nc: Path, area_bbox):\n",
    "    \"\"\"Télécharge ERA5 horaire t2m (si non présent).\"\"\"\n",
    "    if out_nc.exists():\n",
    "        print(f\"[skip] {out_nc.name}\")\n",
    "        return\n",
    "    print(f\"[download] ERA5 hourly t2m {year}-{month:02d}\")\n",
    "    c.retrieve(\n",
    "        \"reanalysis-era5-single-levels\",\n",
    "        {\n",
    "            \"product_type\": \"reanalysis\",\n",
    "            \"variable\": \"2m_temperature\",\n",
    "            \"year\": str(year),\n",
    "            \"month\": f\"{month:02d}\",\n",
    "            \"day\": [f\"{d:02d}\" for d in range(1, 32)],\n",
    "            \"time\": [f\"{h:02d}:00\" for h in range(24)],\n",
    "            \"area\": area_bbox,  # [N, W, S, E]\n",
    "            \"format\": \"netcdf\",\n",
    "        },\n",
    "        str(out_nc),\n",
    "    )\n",
    "\n",
    "def detect_time_dim(da: xr.DataArray) -> str:\n",
    "    \"\"\"Retourne 'time' ou 'valid_time' selon le NetCDF.\"\"\"\n",
    "    if \"time\" in da.dims: return \"time\"\n",
    "    if \"valid_time\" in da.dims: return \"valid_time\"\n",
    "    raise ValueError(f\"Aucune dimension temporelle trouvée. Dims: {list(da.dims)}\")\n",
    "\n",
    "def ensure_spatial(da: xr.DataArray) -> xr.DataArray:\n",
    "    \"\"\"Fixe dims spatiales & CRS (WGS84) pour rioxarray.\"\"\"\n",
    "    if \"latitude\" not in da.dims or \"longitude\" not in da.dims:\n",
    "        raise ValueError(f\"Dims inattendues ERA5: {da.dims}\")\n",
    "    da = da.rio.set_spatial_dims(x_dim=\"longitude\", y_dim=\"latitude\", inplace=False)\n",
    "    da = da.rio.write_crs(\"EPSG:4326\", inplace=False)\n",
    "    return da\n",
    "\n",
    "# --- Traitement principal (mois par mois -> agrégation annuelle -> moyenne multi-annuelle) ---\n",
    "c = cds_client()\n",
    "tnn_years = []  # TNn par année\n",
    "fd_years  = []  # Frost Days par année\n",
    "\n",
    "for y in YEARS:\n",
    "    print(f\"\\n=== YEAR {y} ===\")\n",
    "    tnn_year = None  # min des Tmin journaliers sur l'année\n",
    "    fd_year  = None  # somme des jours (Tmin<0°C) sur l'année\n",
    "\n",
    "    for m in MONTHS:\n",
    "        hourly_nc = TMP_DIR / f\"era5_t2m_hourly_tjk_{y}_{m:02d}.nc\"\n",
    "        download_hourly_month(c, y, m, hourly_nc, AREA_TJK)\n",
    "\n",
    "        print(f\"[process] {hourly_nc.name} -> daily Tmin & FD part\")\n",
    "        ds = xr.open_dataset(hourly_nc, chunks={\"time\": 240})\n",
    "        if \"t2m\" not in ds:\n",
    "            raise ValueError(f\"'t2m' manquant dans {hourly_nc}\")\n",
    "        da_hour = (ds[\"t2m\"] - 273.15).rename(\"t2m\")  # K → °C\n",
    "\n",
    "        tdim = detect_time_dim(da_hour)\n",
    "        # Tmin quotidien\n",
    "        da_daily_tmin = da_hour.resample({tdim: \"1D\"}).min(skipna=True)\n",
    "        # FD du mois (nb jours Tmin < 0°C)\n",
    "        fd_month = (da_daily_tmin < 0).sum(dim=tdim).astype(\"float32\")\n",
    "        # TNn du mois (min des Tmin quotidiens)\n",
    "        tnn_month = da_daily_tmin.min(dim=tdim)\n",
    "\n",
    "        # Accumulation annuelle\n",
    "        tnn_year = tnn_month if tnn_year is None else xr.ufuncs.minimum(tnn_year, tnn_month)\n",
    "        fd_year  = fd_month if fd_year  is None else (fd_year + fd_month)\n",
    "\n",
    "        ds.close()\n",
    "        del ds, da_hour, da_daily_tmin, fd_month, tnn_month\n",
    "        gc.collect()\n",
    "\n",
    "    # Fin d'année: spatial + cast\n",
    "    tnn_year = ensure_spatial(tnn_year).astype(\"float32\")\n",
    "    fd_year  = ensure_spatial(fd_year).astype(\"float32\")\n",
    "    tnn_years.append(tnn_year)\n",
    "    fd_years.append(fd_year)\n",
    "\n",
    "    print(f\"[year {y}] TNn range: {float(tnn_year.min()):.1f}..{float(tnn_year.max()):.1f} °C | \"\n",
    "          f\"FD range: {float(fd_year.min()):.0f}..{float(fd_year.max()):.0f} days\")\n",
    "\n",
    "print(\"\\n[aggregate] Multi-annual means (2010–2024)\")\n",
    "tnn_stack = xr.concat(tnn_years, dim=\"year\").assign_coords(year=(\"year\", YEARS))\n",
    "fd_stack  = xr.concat(fd_years,  dim=\"year\").assign_coords(year=(\"year\", YEARS))\n",
    "tnn_mean = tnn_stack.mean(dim=\"year\", skipna=True)\n",
    "fd_mean  = fd_stack.mean(dim=\"year\",  skipna=True)\n",
    "\n",
    "# Écriture GeoTIFF\n",
    "tnn_mean.rio.to_raster(OUT_TNN)\n",
    "fd_mean.rio.to_raster(OUT_FD)\n",
    "\n",
    "# Sanity checks (min/mean/max)\n",
    "def quick_stats(path):\n",
    "    with rasterio.open(path) as src:\n",
    "        arr = src.read(1)\n",
    "        nod = src.nodata\n",
    "    arr = arr.astype(\"float32\")\n",
    "    if nod is not None:\n",
    "        mask = arr != nod\n",
    "        vals = arr[mask]\n",
    "    else:\n",
    "        vals = arr[np.isfinite(arr)]\n",
    "    return float(np.nanmin(vals)), float(np.nanmean(vals)), float(np.nanmax(vals))\n",
    "\n",
    "print(\"\\n✅ WROTE:\")\n",
    "print(\" -\", OUT_TNN.resolve())\n",
    "print(\" -\", OUT_FD.resolve())\n",
    "print(\"TNn_mean  (°C)  min/mean/max:\", quick_stats(OUT_TNN))\n",
    "print(\"FD_mean   (days) min/mean/max:\", quick_stats(OUT_FD))\n"
   ]
  },
  {
   "cell_type": "code",
   "execution_count": 1,
   "id": "bc21b03f-8a6b-4dc5-aa91-8273afea4ba6",
   "metadata": {},
   "outputs": [],
   "source": [
    "# -------------------\n",
    "#  In case of the kernel is full\n",
    "# -------------------\n",
    "import os\n",
    "os.environ[\"OMP_NUM_THREADS\"] = \"1\"\n",
    "os.environ[\"OPENBLAS_NUM_THREADS\"] = \"1\"\n",
    "os.environ[\"MKL_NUM_THREADS\"] = \"1\"\n",
    "os.environ[\"VECLIB_MAXIMUM_THREADS\"] = \"1\"\n",
    "os.environ[\"NUMEXPR_NUM_THREADS\"] = \"1\""
   ]
  },
  {
   "cell_type": "code",
   "execution_count": null,
   "id": "b71957c4-505c-4ed9-8cb6-e490fb6a71ae",
   "metadata": {},
   "outputs": [],
   "source": []
  }
 ],
 "metadata": {
  "kernelspec": {
   "display_name": "Python [conda env:base] *",
   "language": "python",
   "name": "conda-base-py"
  },
  "language_info": {
   "codemirror_mode": {
    "name": "ipython",
    "version": 3
   },
   "file_extension": ".py",
   "mimetype": "text/x-python",
   "name": "python",
   "nbconvert_exporter": "python",
   "pygments_lexer": "ipython3",
   "version": "3.12.2"
  }
 },
 "nbformat": 4,
 "nbformat_minor": 5
}
