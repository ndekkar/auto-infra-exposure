{
 "cells": [
  {
   "cell_type": "code",
   "execution_count": null,
   "id": "7df80f00-495d-48f7-91bc-92ad8bc00987",
   "metadata": {},
   "outputs": [],
   "source": [
    "import sys\n",
    "import os\n",
    "sys.path.append(os.path.abspath(\"..\"))\n",
    "from main import run_multi_hazard_pipeline\n",
    "\n",
    "\n",
    "config_path = \"../config.yml\"\n",
    "run_multi_hazard_pipeline(config_path)\n",
    "print(\"End Process\")"
   ]
  },
  {
   "cell_type": "code",
   "execution_count": null,
   "id": "68581c69-156a-437c-a614-4ffdbe083d35",
   "metadata": {},
   "outputs": [],
   "source": []
  }
 ],
 "metadata": {
  "kernelspec": {
   "display_name": "Python [conda env:base] *",
   "language": "python",
   "name": "conda-base-py"
  },
  "language_info": {
   "codemirror_mode": {
    "name": "ipython",
    "version": 3
   },
   "file_extension": ".py",
   "mimetype": "text/x-python",
   "name": "python",
   "nbconvert_exporter": "python",
   "pygments_lexer": "ipython3",
   "version": "3.12.2"
  }
 },
 "nbformat": 4,
 "nbformat_minor": 5
}
