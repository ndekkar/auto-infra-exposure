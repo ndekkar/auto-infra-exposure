{
 "cells": [
  {
   "cell_type": "code",
   "execution_count": null,
   "id": "7df80f00-495d-48f7-91bc-92ad8bc00987",
   "metadata": {
    "scrolled": true
   },
   "outputs": [],
   "source": [
    "import sys\n",
    "import os\n",
    "sys.path.append(os.path.abspath(\"..\"))\n",
    "from main import run_multi_hazard_pipeline\n",
    "\n",
    "print(\"Start Process\")\n",
    "config_path = \"../config.yml\"\n",
    "run_multi_hazard_pipeline(config_path)\n",
    "print(\"End Process\")"
   ]
  },
  {
   "cell_type": "code",
   "execution_count": null,
   "id": "38bdaf3b-8393-4455-858a-4090061fea07",
   "metadata": {},
   "outputs": [],
   "source": []
  }
 ],
 "metadata": {
  "kernelspec": {
   "display_name": "Python [conda env:base] *",
   "language": "python",
   "name": "conda-base-py"
  },
  "language_info": {
   "codemirror_mode": {
    "name": "ipython",
    "version": 3
   },
   "file_extension": ".py",
   "mimetype": "text/x-python",
   "name": "python",
   "nbconvert_exporter": "python",
   "pygments_lexer": "ipython3",
   "version": "3.12.2"
  }
 },
 "nbformat": 4,
 "nbformat_minor": 5
}
