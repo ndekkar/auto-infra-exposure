{
 "cells": [
  {
   "cell_type": "markdown",
   "id": "bfd411cc",
   "metadata": {},
   "source": [
    "## Setup & Config"
   ]
  },
  {
   "cell_type": "code",
   "execution_count": null,
   "id": "a7a5ac70",
   "metadata": {},
   "outputs": [],
   "source": [
    "# --- Environment & Imports ---\n",
    "import os, sys, glob, json\n",
    "from pathlib import Path\n",
    "\n",
    "# Make sure both the repo root and a potential 'modules/' folder are importable\n",
    "ROOT = Path.cwd()\n",
    "if (ROOT / \"modules\").exists():\n",
    "    sys.path.insert(0, str(ROOT / \"modules\"))\n",
    "sys.path.insert(0, str(ROOT))\n",
    "\n",
    "# Basic utilities\n",
    "import matplotlib.pyplot as plt\n",
    "\n",
    "# YAML config loader (fallback if modules.config_utils not found)\n",
    "try:\n",
    "    from modules.config_utils import load_config  # project helper if available\n",
    "except Exception:\n",
    "    import yaml\n",
    "    def load_config(path):\n",
    "        with open(path, \"r\", encoding=\"utf-8\") as f:\n",
    "            return yaml.safe_load(f)\n",
    "\n",
    "# Helper to auto-detect a config file if not set\n",
    "DEFAULT_CONFIG_CANDIDATES = [\"config.yaml\", \"config.yml\", \"configs/config.yaml\"]\n",
    "for _cand in DEFAULT_CONFIG_CANDIDATES:\n",
    "    if Path(_cand).exists():\n",
    "        CONFIG_PATH = _cand\n",
    "        break\n",
    "else:\n",
    "    # Put a placeholder if nothing found\n",
    "    CONFIG_PATH = \"config.yaml\"  # adjust if needed\n",
    "print(f\"Using CONFIG_PATH = {CONFIG_PATH!r}\")\n",
    "CONFIG = load_config(CONFIG_PATH)\n",
    "CONFIG"
   ]
  },
  {
   "cell_type": "markdown",
   "id": "fe35a8e0",
   "metadata": {},
   "source": [
    "## Run drought processing"
   ]
  },
  {
   "cell_type": "code",
   "execution_count": null,
   "id": "f434ffd0",
   "metadata": {},
   "outputs": [],
   "source": [
    "# Imports with fallback (monolithic repo vs. modular layout)\n",
    "try:\n",
    "    from modules.drought_module import process_drought, plot_ndmi_raster\n",
    "except Exception:\n",
    "    from drought_module import process_drought, plot_ndmi_raster\n",
    "\n",
    "# Execute drought pipeline (uses CONFIG sections like hazards.drought, input paths, output_dir, etc.)\n",
    "drought_raster_path = process_drought(CONFIG)\n",
    "print(\"Drought raster (if produced):\", drought_raster_path)\n",
    "\n",
    "# Optionally plot NDMI raster if a path was returned and the function expects a path\n",
    "try:\n",
    "    if drought_raster_path:\n",
    "        plot_ndmi_raster(drought_raster_path, CONFIG.get(\"aoi\"))\n",
    "except Exception as e:\n",
    "    print(\"[WARN] Plotting NDMI raster failed:\", e)"
   ]
  },
  {
   "cell_type": "code",
   "execution_count": null,
   "id": "b8e10d9f",
   "metadata": {},
   "outputs": [],
   "source": [
    "# --- Browse outputs ---\n",
    "out_dir = Path(CONFIG.get(\"output_dir\", \"output\"))\n",
    "out_dir.mkdir(parents=True, exist_ok=True)\n",
    "maps = sorted(list(out_dir.rglob(\"*.png\"))) + sorted(list(out_dir.rglob(\"*.jpg\")))\n",
    "rasters = sorted(list(out_dir.rglob(\"*.tif\"))) + sorted(list(out_dir.rglob(\"*.tiff\")))\n",
    "vectors = sorted(list(out_dir.rglob(\"*.gpkg\"))) + sorted(list(out_dir.rglob(\"*.geojson\")))\n",
    "\n",
    "print(f\"Found {len(maps)} map images, {len(rasters)} rasters, {len(vectors)} vectors under {out_dir}\")\n",
    "\n",
    "# Show the latest map if available\n",
    "if maps:\n",
    "    from PIL import Image\n",
    "    display(Image.open(maps[-1]))\n",
    "else:\n",
    "    print(\"No map images found yet.\")"
   ]
  }
 ],
 "metadata": {
  "kernelspec": {
   "display_name": "Python [conda env:base] *",
   "language": "python",
   "name": "conda-base-py"
  },
  "language_info": {
   "codemirror_mode": {
    "name": "ipython",
    "version": 3
   },
   "file_extension": ".py",
   "mimetype": "text/x-python",
   "name": "python",
   "nbconvert_exporter": "python",
   "pygments_lexer": "ipython3",
   "version": "3.12.2"
  }
 },
 "nbformat": 4,
 "nbformat_minor": 5
}
