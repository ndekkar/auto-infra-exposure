{
 "cells": [
  {
   "cell_type": "markdown",
   "id": "47c29b3f",
   "metadata": {},
   "source": [
    "# Flood (combined) — single-hazard runner\n",
    "_Generated on 2025-09-14 15:44 UTC_"
   ]
  },
  {
   "cell_type": "markdown",
   "id": "6caedf51",
   "metadata": {},
   "source": [
    "## Setup & Config"
   ]
  },
  {
   "cell_type": "code",
   "execution_count": null,
   "id": "87945ed7",
   "metadata": {},
   "outputs": [],
   "source": [
    "# --- Environment & Imports ---\n",
    "import os, sys, glob, json\n",
    "from pathlib import Path\n",
    "\n",
    "# Make sure both the repo root and a potential 'modules/' folder are importable\n",
    "ROOT = Path.cwd()\n",
    "if (ROOT / \"modules\").exists():\n",
    "    sys.path.insert(0, str(ROOT / \"modules\"))\n",
    "sys.path.insert(0, str(ROOT))\n",
    "\n",
    "# Basic utilities\n",
    "import matplotlib.pyplot as plt\n",
    "\n",
    "# YAML config loader (fallback if modules.config_utils not found)\n",
    "try:\n",
    "    from modules.config_utils import load_config  # project helper if available\n",
    "except Exception:\n",
    "    import yaml\n",
    "    def load_config(path):\n",
    "        with open(path, \"r\", encoding=\"utf-8\") as f:\n",
    "            return yaml.safe_load(f)\n",
    "\n",
    "# Helper to auto-detect a config file if not set\n",
    "DEFAULT_CONFIG_CANDIDATES = [\"config.yaml\", \"config.yml\", \"configs/config.yaml\"]\n",
    "for _cand in DEFAULT_CONFIG_CANDIDATES:\n",
    "    if Path(_cand).exists():\n",
    "        CONFIG_PATH = _cand\n",
    "        break\n",
    "else:\n",
    "    # Put a placeholder if nothing found\n",
    "    CONFIG_PATH = \"config.yaml\"  # adjust if needed\n",
    "print(f\"Using CONFIG_PATH = {CONFIG_PATH!r}\")\n",
    "CONFIG = load_config(CONFIG_PATH)\n",
    "CONFIG"
   ]
  },
  {
   "cell_type": "markdown",
   "id": "ff5ef83f",
   "metadata": {},
   "source": [
    "## Run combined flood processing"
   ]
  },
  {
   "cell_type": "code",
   "execution_count": null,
   "id": "80fb0785",
   "metadata": {},
   "outputs": [],
   "source": [
    "# The combined flood usually needs hazard rasters + thresholds per subtype, and the AOI/infrastructure.\n",
    "# This notebook assumes the module reads most parameters from CONFIG, but we also show a manual call.\n",
    "from typing import Dict, Tuple, Optional\n",
    "\n",
    "try:\n",
    "    from modules.flood_combination import process_combined_flood\n",
    "except Exception:\n",
    "    from flood_combination import process_combined_flood\n",
    "\n",
    "import geopandas as gpd\n",
    "\n",
    "# AOI\n",
    "aoi_path = CONFIG.get(\"aoi\")\n",
    "aoi_gdf = gpd.read_file(aoi_path) if aoi_path else None\n",
    "\n",
    "# Optional: load all points/lines as single layers if your CONFIG provides them\n",
    "points_path = (CONFIG.get(\"inputs\", {}).get(\"points\"))\n",
    "lines_path  = (CONFIG.get(\"inputs\", {}).get(\"lines\"))\n",
    "points_gdf = gpd.read_file(points_path) if points_path else None\n",
    "lines_gdf  = gpd.read_file(lines_path) if lines_path else None\n",
    "\n",
    "# Rasters dict if you want to override CONFIG: {subhazard_name: (path, threshold)}\n",
    "# If your module already reads from CONFIG, you can keep this empty.\n",
    "hazard_rasters: Dict[str, Tuple[str, Optional[float]]] = {}\n",
    "\n",
    "results = process_combined_flood(\n",
    "    config=CONFIG,\n",
    "    hazard_rasters=hazard_rasters,\n",
    "    aoi=aoi_gdf,\n",
    "    points=points_gdf,\n",
    "    lines=lines_gdf,\n",
    "    sample_points_per_line=int(CONFIG.get(\"sample_points_per_line\", 10))\n",
    ")\n",
    "print(\"Combined flood result keys:\", list(results.keys()))"
   ]
  },
  {
   "cell_type": "code",
   "execution_count": null,
   "id": "9f5a5414",
   "metadata": {},
   "outputs": [],
   "source": [
    "# --- Browse outputs ---\n",
    "out_dir = Path(CONFIG.get(\"output_dir\", \"output\"))\n",
    "out_dir.mkdir(parents=True, exist_ok=True)\n",
    "maps = sorted(list(out_dir.rglob(\"*.png\"))) + sorted(list(out_dir.rglob(\"*.jpg\")))\n",
    "rasters = sorted(list(out_dir.rglob(\"*.tif\"))) + sorted(list(out_dir.rglob(\"*.tiff\")))\n",
    "vectors = sorted(list(out_dir.rglob(\"*.gpkg\"))) + sorted(list(out_dir.rglob(\"*.geojson\")))\n",
    "\n",
    "print(f\"Found {len(maps)} map images, {len(rasters)} rasters, {len(vectors)} vectors under {out_dir}\")\n",
    "\n",
    "# Show the latest map if available\n",
    "if maps:\n",
    "    from PIL import Image\n",
    "    display(Image.open(maps[-1]))\n",
    "else:\n",
    "    print(\"No map images found yet.\")"
   ]
  }
 ],
 "metadata": {},
 "nbformat": 4,
 "nbformat_minor": 5
}
