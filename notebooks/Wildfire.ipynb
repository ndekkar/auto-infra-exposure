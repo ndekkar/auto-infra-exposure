{
 "cells": [
  {
   "cell_type": "markdown",
   "id": "1b0bb362",
   "metadata": {},
   "source": [
    "# Wildfire — single-hazard runner\n",
    "_Generated on 2025-09-14 15:44 UTC_"
   ]
  },
  {
   "cell_type": "markdown",
   "id": "bd122699",
   "metadata": {},
   "source": [
    "## Setup & Config"
   ]
  },
  {
   "cell_type": "code",
   "execution_count": null,
   "id": "784b2c9d",
   "metadata": {},
   "outputs": [],
   "source": [
    "# --- Environment & Imports ---\n",
    "import os, sys, glob, json\n",
    "from pathlib import Path\n",
    "\n",
    "# Make sure both the repo root and a potential 'modules/' folder are importable\n",
    "ROOT = Path.cwd()\n",
    "if (ROOT / \"modules\").exists():\n",
    "    sys.path.insert(0, str(ROOT / \"modules\"))\n",
    "sys.path.insert(0, str(ROOT))\n",
    "\n",
    "# Basic utilities\n",
    "import matplotlib.pyplot as plt\n",
    "\n",
    "# YAML config loader (fallback if modules.config_utils not found)\n",
    "try:\n",
    "    from modules.config_utils import load_config  # project helper if available\n",
    "except Exception:\n",
    "    import yaml\n",
    "    def load_config(path):\n",
    "        with open(path, \"r\", encoding=\"utf-8\") as f:\n",
    "            return yaml.safe_load(f)\n",
    "\n",
    "# Helper to auto-detect a config file if not set\n",
    "DEFAULT_CONFIG_CANDIDATES = [\"config.yaml\", \"config.yml\", \"configs/config.yaml\"]\n",
    "for _cand in DEFAULT_CONFIG_CANDIDATES:\n",
    "    if Path(_cand).exists():\n",
    "        CONFIG_PATH = _cand\n",
    "        break\n",
    "else:\n",
    "    # Put a placeholder if nothing found\n",
    "    CONFIG_PATH = \"config.yaml\"  # adjust if needed\n",
    "print(f\"Using CONFIG_PATH = {CONFIG_PATH!r}\")\n",
    "CONFIG = load_config(CONFIG_PATH)\n",
    "CONFIG"
   ]
  },
  {
   "cell_type": "markdown",
   "id": "ed4dbaba",
   "metadata": {},
   "source": [
    "## Run wildfire processing"
   ]
  },
  {
   "cell_type": "code",
   "execution_count": null,
   "id": "8bc4f3a8",
   "metadata": {},
   "outputs": [],
   "source": [
    "try:\n",
    "    from modules.wildfire_module import process_wildfire\n",
    "except Exception:\n",
    "    from wildfire_module import process_wildfire\n",
    "\n",
    "wildfire_raster_path = process_wildfire(CONFIG)\n",
    "print(\"Wildfire raster (if produced):\", wildfire_raster_path)"
   ]
  },
  {
   "cell_type": "code",
   "execution_count": null,
   "id": "f76c85fa",
   "metadata": {},
   "outputs": [],
   "source": [
    "# --- Browse outputs ---\n",
    "out_dir = Path(CONFIG.get(\"output_dir\", \"output\"))\n",
    "out_dir.mkdir(parents=True, exist_ok=True)\n",
    "maps = sorted(list(out_dir.rglob(\"*.png\"))) + sorted(list(out_dir.rglob(\"*.jpg\")))\n",
    "rasters = sorted(list(out_dir.rglob(\"*.tif\"))) + sorted(list(out_dir.rglob(\"*.tiff\")))\n",
    "vectors = sorted(list(out_dir.rglob(\"*.gpkg\"))) + sorted(list(out_dir.rglob(\"*.geojson\")))\n",
    "\n",
    "print(f\"Found {len(maps)} map images, {len(rasters)} rasters, {len(vectors)} vectors under {out_dir}\")\n",
    "\n",
    "# Show the latest map if available\n",
    "if maps:\n",
    "    from PIL import Image\n",
    "    display(Image.open(maps[-1]))\n",
    "else:\n",
    "    print(\"No map images found yet.\")"
   ]
  }
 ],
 "metadata": {},
 "nbformat": 4,
 "nbformat_minor": 5
}
